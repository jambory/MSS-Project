{
 "cells": [
  {
   "cell_type": "code",
   "execution_count": 2,
   "metadata": {},
   "outputs": [
    {
     "name": "stdout",
     "output_type": "stream",
     "text": [
      "WARNING:tensorflow:From c:\\Users\\cobyw\\anaconda3\\Lib\\site-packages\\keras\\src\\losses.py:2976: The name tf.losses.sparse_softmax_cross_entropy is deprecated. Please use tf.compat.v1.losses.sparse_softmax_cross_entropy instead.\n",
      "\n"
     ]
    }
   ],
   "source": [
    "import numpy as np\n",
    "import datasets\n",
    "import tensorflow as tf\n",
    "from tensorflow.keras import datasets, layers, models\n",
    "import matplotlib.pyplot as plt\n"
   ]
  },
  {
   "cell_type": "markdown",
   "metadata": {},
   "source": [
    "First thing we are going to do is to just load our data in. The data when being put through a TensorFlow should be organized in a very specific way. Right now each observation in our data is organized like this : $(2\\cdot M,K,L)$\n",
    "\n",
    "- $M$ = 100; Batch number, remember each batch observation is 2 tensors each one correlating to the left/right audio channel.\n",
    "- $K$ = 40; Index/number of overlapping chunks of waveform.\n",
    "- $L$ = 16; Length of a chunk/sample of data. For this study we will refer to these as chunks.\n",
    "\n",
    "For our outputs the data is structured like: $(2\\cdot M,C,K,L)$\n",
    "\n",
    "- $C$ = 4; Denotes the source target."
   ]
  },
  {
   "cell_type": "code",
   "execution_count": 3,
   "metadata": {},
   "outputs": [
    {
     "data": {
      "text/plain": [
       "<_LoadDataset element_spec=(TensorSpec(shape=(200, 40, 16), dtype=tf.float32, name=None), TensorSpec(shape=(200, 4, 40, 16), dtype=tf.float32, name=None))>"
      ]
     },
     "execution_count": 3,
     "metadata": {},
     "output_type": "execute_result"
    }
   ],
   "source": [
    "tf_data = tf.data.Dataset.load('tensors/tensor_dataset_small')\n",
    "tf_data"
   ]
  },
  {
   "cell_type": "code",
   "execution_count": 4,
   "metadata": {},
   "outputs": [],
   "source": [
    "x_batches = [tens[0] for tens in tf_data]\n",
    "y_batches = [tens[1] for tens in tf_data]"
   ]
  },
  {
   "cell_type": "code",
   "execution_count": 5,
   "metadata": {},
   "outputs": [],
   "source": [
    "x_batches = np.array(x_batches)\n",
    "y_batches = np.array(y_batches)"
   ]
  },
  {
   "cell_type": "code",
   "execution_count": 7,
   "metadata": {},
   "outputs": [
    {
     "data": {
      "text/plain": [
       "(200, 40, 16)"
      ]
     },
     "execution_count": 7,
     "metadata": {},
     "output_type": "execute_result"
    }
   ],
   "source": [
    "x_batches[0].shape"
   ]
  },
  {
   "cell_type": "code",
   "execution_count": 8,
   "metadata": {},
   "outputs": [],
   "source": [
    "# Params as globals for testing purposes\n",
    "\n",
    "L=16 # Chunk size\n",
    "C=4 # Amount of sources being estimated\n",
    "N=512 # Encoder output size\n",
    "B=128 # Conv1DBlock output size\n",
    "H=512 # Conv1DBlock input size\n",
    "P=3\n",
    "R=3 # Amount of repeats of the Temporal Convolution block\n",
    "X=8 # Amount of times Conv1DBlock is applied in a Temporal Convolution block\n",
    "T=3000 # TODO: figure out how to get this param\n",
    "dilation = 1\n",
    "overlap=8\n",
    "casual=False"
   ]
  },
  {
   "cell_type": "markdown",
   "metadata": {},
   "source": [
    "## Overall Architecture\n",
    "\n",
    "Looking at the model from a top down view, the data follows this pipeline:\n",
    "\n",
    "Data ---> Encoder ----> Separator ---> Decoder ---> Create Sources"
   ]
  },
  {
   "cell_type": "code",
   "execution_count": null,
   "metadata": {},
   "outputs": [],
   "source": [
    "class ConvTasNet(models.Model):\n",
    "    \"\"\"\n",
    "    \n",
    "    \"\"\"\n",
    "    def __init__(self,\n",
    "                 L: int=16, # Chunk size\n",
    "                 C: int=4, # Amount of sources being estimated\n",
    "                 N: int=512, # Encoder output size\n",
    "                 B: int=128, # Conv1DBlock output size\n",
    "                 H: int=512, # Conv1DBlock input size\n",
    "                 P: int=3, # Kernel size of Conv1DBlocks\n",
    "                 R: int=3, # Amount of repeats of the Temporal Convolution block\n",
    "                 X: int=8, # Amount of times Conv1DBlock is applied in a Temporal Convolution block\n",
    "                 T: int=3000, # TODO: figure out how to get this param\n",
    "                 overlap: int=8,\n",
    "                 casual: bool=False\n",
    "                ):\n",
    "        self.L = L\n",
    "        self.C = C\n",
    "        self.N = N\n",
    "        self.B = B\n",
    "        self.H = H\n",
    "        self.R = R\n",
    "        self.X = X\n",
    "        self.T = T\n",
    "        self.overlap = overlap\n",
    "        self.casual = casual\n",
    "\n",
    "\n",
    "        self.encoder = Encoder(self.N)\n",
    "        self.separator = Separator(self.N, self.B, self.R, self.X, self.H, self.C, self.casual)\n",
    "        self.decoder = Decoder(self.L)\n",
    "\n",
    "    def call(self, x):\n",
    "        w = self.encoder(x)\n",
    "        m_i = self.separator(w)\n",
    "\n",
    "        est_sources = self.decoder(w, m_i)\n",
    "\n",
    "        return est_sources\n",
    "    \n",
    "class ConvTasNet(models.Model):\n",
    "    \"\"\"\n",
    "    \n",
    "    \"\"\"\n",
    "    def __init__(self,\n",
    "                 L: int=16, # Chunk size\n",
    "                 C: int=4, # Amount of sources being estimated\n",
    "                 N: int=512, # Encoder output size\n",
    "                 B: int=128, # Conv1DBlock output size\n",
    "                 H: int=512, # Conv1DBlock input size\n",
    "                 P: int=3, # Kernel size of Conv1DBlocks\n",
    "                 R: int=3, # Amount of repeats of the Temporal Convolution block\n",
    "                 X: int=8, # Amount of times Conv1DBlock is applied in a Temporal Convolution block\n",
    "                 T: int=3000, # TODO: figure out how to get this param\n",
    "                 overlap: int=8,\n",
    "                 casual: bool=False\n",
    "                ):\n",
    "        self.L = L\n",
    "        self.C = C\n",
    "        self.N = N\n",
    "        self.B = B\n",
    "        self.H = H\n",
    "        self.R = R\n",
    "        self.X = X\n",
    "        self.T = T\n",
    "        self.overlap = overlap\n",
    "        self.casual = casual\n",
    "\n",
    "\n",
    "        self.encoder = Encoder(self.N)\n",
    "        self.separator = Separator(self.N, self.B, self.R, self.X, self.H, self.C, self.casual)\n",
    "        self.decoder = Decoder(self.L)\n",
    "\n",
    "    def call(self, x):\n",
    "        w = self.encoder(x)\n",
    "        m_i = self.separator(w)\n",
    "\n",
    "        est_sources = self.decoder(w, m_i)\n",
    "\n",
    "        return est_sources\n"
   ]
  },
  {
   "cell_type": "code",
   "execution_count": 9,
   "metadata": {},
   "outputs": [],
   "source": [
    "class Encoder(layers.Layer):\n",
    "    \"\"\" \n",
    "    First step of model not counting, preprocessing data. Puts the inputs through a 1x1 Convolutional layer with N output channels.\n",
    "    A 1x1Convolutional layer can be interpreted and implemented as a Dense layer, but I chose not to implement it this way for clarity.\n",
    "    The layer also has a ReLU activation function attached to it.\n",
    "\n",
    "    Args: \n",
    "        N: Encoder output size\n",
    "\n",
    "    \"\"\"\n",
    "    def __init__(self, N):\n",
    "        super(Encoder, self).__init__(name='Encoder')\n",
    "        self.U = layers.Conv1D(N, 1)\n",
    "\n",
    "    def call(self, x): # (M, K, L)\n",
    "        return self.U(x) # (M, K, N)\n",
    "\n",
    "        \n",
    "class Separator(layers.Layer):\n",
    "    \"\"\" \n",
    "    To begin the we take the output of the encoder which we then normalize it and feed it into a 1x1Convolution.\n",
    "    This layer repeats a Temporal Convolution Block multiple times, wherin, what is refered to as a Conv1D Block in the paper, is repeated\n",
    "    several times for each instance of a Temporal Convolutional Block. Finally the output of the Temporal blocks is input into a 1x1 Convolution\n",
    "    with C*N output channels.\n",
    "    Args:\n",
    "        N: (int) Encoder output size\n",
    "        B: (int) Conv1DBlock output size\n",
    "        R: (int) Amount of repeats of the Temporal Convolution block\n",
    "        X: (int) Amount of times Conv1DBlock is applied in a Temporal Convolution block\n",
    "        H: (int) Conv1DBlock input size\n",
    "        C: (int) Amount of sources being estimated\n",
    "    \n",
    "    \"\"\"\n",
    "    def __init__(self, N, B, R, X, H, C, P, casual, skip=True):\n",
    "        super(Separator, self).__init__(name='Separator')\n",
    "        self.skip=skip\n",
    "        if casual:\n",
    "            self.normalization = cLN(N)\n",
    "        else:\n",
    "            self.normalization = gLN(N) \n",
    "        self.bottle_neck = layers.Conv1D(B,1)\n",
    "        \n",
    "        self.temporal_conv = [TemporalConv(X, H, B, P, casual, skip=self.skip) for r in range(R)]\n",
    "        self.skip_con = layers.Add()\n",
    "        self.prelu = layers.PReLU()\n",
    "        self.m_i = layers.Conv1D(C*N, 1)\n",
    "\n",
    "    def call(self, w): # (M, K, N)\n",
    "        normalized_w = self.normalization(w) # (M, K, N)\n",
    "        output = self.bottle_neck(normalized_w) # (M, K, B)\n",
    "        skip_con = 0\n",
    "        for i,block in enumerate(self.temporal_conv):\n",
    "            if self.skip:\n",
    "                output, skips = block(output)\n",
    "                skip_con = self.skip_con(skips)\n",
    "            else:\n",
    "                output = block(output)\n",
    "        # (M, K, B)\n",
    "        if self.skip:\n",
    "            output = skip_con\n",
    "\n",
    "        output = self.prelu(output)\n",
    "        estimated_masks = self.m_i(output)# (M, K, C*N)\n",
    "        return estimated_masks\n",
    "    \n",
    "class Decoder(layers.Layer):\n",
    "    \"\"\" \n",
    "    This is layer is final part of the model. Taking the features obtained, from the Conv1D blocks masks are finally combined into with the\n",
    "    original mix into the estimated sources.\n",
    "\n",
    "    Args:\n",
    "        L : (int) length of individual chunks of audio.\n",
    "    \"\"\"\n",
    "    def __init__(self, L):\n",
    "        super(Decoder, self).__init__(name='Decoder')\n",
    "        self.transpose_conv = layers.Conv1DTranspose(L, 1)\n",
    "\n",
    "    def call(self, M, m_i, w, C, N, L, T, K):\n",
    "        estimated_sources = mask_mult(w, m_i, C)\n",
    "        estimated_sources = layers.Reshape((M, C, N, K))(estimated_sources)\n",
    "\n",
    "        estimated_sources = self.transpose_conv(estimated_sources)\n",
    "\n",
    "        estimated_sources = overlap_add(estimated_sources)\n",
    "\n",
    "        return estimated_sources            \n"
   ]
  },
  {
   "cell_type": "code",
   "execution_count": 10,
   "metadata": {},
   "outputs": [
    {
     "name": "stdout",
     "output_type": "stream",
     "text": [
      "WARNING:tensorflow:From c:\\Users\\cobyw\\anaconda3\\Lib\\site-packages\\keras\\src\\backend.py:873: The name tf.get_default_graph is deprecated. Please use tf.compat.v1.get_default_graph instead.\n",
      "\n"
     ]
    }
   ],
   "source": [
    "w = Encoder(N)(x_batches[1])"
   ]
  },
  {
   "cell_type": "code",
   "execution_count": 32,
   "metadata": {},
   "outputs": [],
   "source": [
    "class Conv1DBlock(layers.Layer):\n",
    "    def __init__(self, H, B, P, dilation, casual, skip = True):\n",
    "        super(Conv1DBlock, self).__init__(name='Conv1DBlock')\n",
    "        self.skip = skip\n",
    "        self.input_channels = layers.Conv1D(H,1)\n",
    "        self.prelu = layers.PReLU()\n",
    "        if casual:\n",
    "            self.norm = cLN(H)\n",
    "        else:\n",
    "            self.norm = gLN(H)\n",
    "        \n",
    "        self.depthwise = DepthwiseConv(H, B, P, dilation, casual, skip=self.skip)\n",
    "\n",
    "    def call(self, input):\n",
    "        input_channels = self.input_channels(input)\n",
    "        input_channels = self.prelu(input_channels)\n",
    "        input_channels = self.norm(input_channels)\n",
    "        if self.skip:\n",
    "            res, skip = self.depthwise(input_channels)\n",
    "            return res, skip\n",
    "\n",
    "        res = self.depthwise(input_channels, skip=self.skip)\n",
    "        return res\n",
    "\n",
    "class DepthwiseConv(layers.Layer):\n",
    "    def __init__(self, H, B, P, dilation, casual, skip=True):\n",
    "        super(DepthwiseConv, self).__init__(name='DepthwiseConv')\n",
    "        self.skip = skip\n",
    "        if casual:\n",
    "            padding_type = \"casual\"\n",
    "            self.norm = cLN(H)\n",
    "        else:\n",
    "            padding_type = \"same\"\n",
    "            self.norm = gLN(H)\n",
    "\n",
    "        self.conv1d = layers.Conv1D(H, P, dilation_rate=dilation, padding=padding_type, groups=H)\n",
    "        self.prelu = layers.PReLU()\n",
    "        \n",
    "        self.res_out = layers.Conv1D(B, 1)\n",
    "        if self.skip:\n",
    "            self.skip_out = layers.Conv1D(B, 1)\n",
    "    \n",
    "    def call(self, input):\n",
    "        input = self.conv1d(input) \n",
    "        input = self.prelu(input)\n",
    "        input = self.norm(input)\n",
    "        res = self.res_out(input)\n",
    "        if self.skip:\n",
    "            skip_out = self.skip_out(input)\n",
    "            return res, skip_out\n",
    "        \n",
    "        return res\n",
    "\n",
    "class TemporalConv(layers.Layer):\n",
    "    def __init__(self, X, H, B, P, casual, skip=True):\n",
    "        super(TemporalConv,self).__init__(name='TemporalConv')\n",
    "        self.skip=skip\n",
    "        self.blocks = []\n",
    "        for i in range(X):\n",
    "            dilation = 2 ** i\n",
    "            self.blocks += [Conv1DBlock(H, B, P, dilation, casual, skip=self.skip)]\n",
    "        self.res_add = layers.Add()\n",
    "        self.skip_add = layers.Add()\n",
    "        \n",
    "    def call(self, block_input):\n",
    "        skip_conn = 0\n",
    "        for block in self.blocks:    \n",
    "                if self.skip:\n",
    "                    res, skip = block(block_input)\n",
    "                    block_input = self.res_add([block_input, res])\n",
    "                    skip_conn = self.skip_add([skip_conn, skip])\n",
    "                else:\n",
    "                    res = block(block_input)\n",
    "                    block_input = self.res_add([block_input, res])\n",
    "        if self.skip:\n",
    "            return block_input, skip_conn\n",
    "        return block_input\n",
    "        \n"
   ]
  },
  {
   "cell_type": "code",
   "execution_count": 22,
   "metadata": {},
   "outputs": [
    {
     "data": {
      "text/plain": [
       "(200, 40, 16)"
      ]
     },
     "execution_count": 22,
     "metadata": {},
     "output_type": "execute_result"
    }
   ],
   "source": [
    "x_batches[0].shape"
   ]
  },
  {
   "cell_type": "code",
   "execution_count": 21,
   "metadata": {},
   "outputs": [
    {
     "data": {
      "text/plain": [
       "TensorShape([200, 40, 512])"
      ]
     },
     "execution_count": 21,
     "metadata": {},
     "output_type": "execute_result"
    }
   ],
   "source": [
    "test_encoded = Encoder(N)(x_batches[0]) # (M, K, N)\n",
    "test_encoded.shape"
   ]
  },
  {
   "cell_type": "code",
   "execution_count": 29,
   "metadata": {},
   "outputs": [
    {
     "data": {
      "text/plain": [
       "TensorShape([200, 40, 128])"
      ]
     },
     "execution_count": 29,
     "metadata": {},
     "output_type": "execute_result"
    }
   ],
   "source": [
    "norm_test_encoded = gLN(N)(test_encoded) # (M, K, N)\n",
    "bottle_neck = layers.Conv1D(B,1)(norm_test_encoded) # (M, K, B)\n",
    "bottle_neck.shape "
   ]
  },
  {
   "cell_type": "code",
   "execution_count": 34,
   "metadata": {},
   "outputs": [
    {
     "name": "stdout",
     "output_type": "stream",
     "text": [
      "Residual Shape: (200, 40, 128),Skip Shape: (200, 40, 128) \n"
     ]
    }
   ],
   "source": [
    "convblock_test = Conv1DBlock(H, B, P, dilation, casual)(bottle_neck)\n",
    "print(f\"Residual Shape: {convblock_test[0].shape},Skip Shape: {convblock_test[1].shape} \")"
   ]
  },
  {
   "cell_type": "code",
   "execution_count": 120,
   "metadata": {},
   "outputs": [
    {
     "name": "stdout",
     "output_type": "stream",
     "text": [
      "WARNING:tensorflow:5 out of the last 5 calls to <function Conv._jit_compiled_convolution_op at 0x00000193D9D880E0> triggered tf.function retracing. Tracing is expensive and the excessive number of tracings could be due to (1) creating @tf.function repeatedly in a loop, (2) passing tensors with different shapes, (3) passing Python objects instead of tensors. For (1), please define your @tf.function outside of the loop. For (2), @tf.function has reduce_retracing=True option that can avoid unnecessary retracing. For (3), please refer to https://www.tensorflow.org/guide/function#controlling_retracing and https://www.tensorflow.org/api_docs/python/tf/function for  more details.\n",
      "WARNING:tensorflow:6 out of the last 6 calls to <function Conv._jit_compiled_convolution_op at 0x00000193D9DAA2A0> triggered tf.function retracing. Tracing is expensive and the excessive number of tracings could be due to (1) creating @tf.function repeatedly in a loop, (2) passing tensors with different shapes, (3) passing Python objects instead of tensors. For (1), please define your @tf.function outside of the loop. For (2), @tf.function has reduce_retracing=True option that can avoid unnecessary retracing. For (3), please refer to https://www.tensorflow.org/guide/function#controlling_retracing and https://www.tensorflow.org/api_docs/python/tf/function for  more details.\n"
     ]
    },
    {
     "data": {
      "text/plain": [
       "TensorShape([200, 40, 128])"
      ]
     },
     "execution_count": 120,
     "metadata": {},
     "output_type": "execute_result"
    }
   ],
   "source": [
    "temp_block_test = TemporalConv(X, H, B, P, casual)(bottle_neck)\n",
    "temp_block_test.shape"
   ]
  },
  {
   "cell_type": "code",
   "execution_count": 122,
   "metadata": {},
   "outputs": [
    {
     "data": {
      "text/plain": [
       "TensorShape([200, 40, 2048])"
      ]
     },
     "execution_count": 122,
     "metadata": {},
     "output_type": "execute_result"
    }
   ],
   "source": [
    "mi_test = layers.Conv1D(C*N, 1, activation='relu')(temp_block_test)\n",
    "mi_test.shape"
   ]
  },
  {
   "cell_type": "code",
   "execution_count": 124,
   "metadata": {},
   "outputs": [
    {
     "data": {
      "text/plain": [
       "TensorShape([200, 40, 2048])"
      ]
     },
     "execution_count": 124,
     "metadata": {},
     "output_type": "execute_result"
    }
   ],
   "source": [
    "sep_test = Separator(N, B, R, X, H, C, P, casual)(test_encoded)\n",
    "sep_test.shape"
   ]
  },
  {
   "cell_type": "code",
   "execution_count": null,
   "metadata": {},
   "outputs": [],
   "source": []
  },
  {
   "cell_type": "code",
   "execution_count": 23,
   "metadata": {},
   "outputs": [],
   "source": [
    "def choose_norm(casual, H):\n",
    "    \"\"\" \n",
    "    Chooses normalization type based on value of casual.\n",
    "\n",
    "    Args:\n",
    "        casual: (bool) chooses type of normalization applied.\n",
    "    Returns:\n",
    "        cLN or gLN (layer)\n",
    "    \"\"\"\n",
    "    if casual:\n",
    "        return cLN(H)\n",
    "    else:\n",
    "        return gLN(H)\n",
    "\n",
    "class cLN(layers.Layer):\n",
    "    def __init__(self, H, EPS = 1e-8):\n",
    "        super(cLN, self).__init__(name=\"cLN\")\n",
    "        self.EPS = EPS\n",
    "        shape = (1,1,H)\n",
    "        self.gamma = tf.Variable(tf.ones(shape),trainable=True,shape=shape)\n",
    "        self.beta = tf.Variable(tf.zeros(shape),trainable=True,shape=shape)\n",
    "\n",
    "    def call(self, input):\n",
    "        # (M, K, H)\n",
    "        E_f = tf.math.reduce_mean(input, axis=2, keepdims=True) # (M, K, 1)\n",
    "        var = tf.math.reduce_variance(input, axis=2, keepdims=True)# (M, K, 1)\n",
    "\n",
    "        normalized = self.gamma * (input - E_f) / tf.math.sqrt(var + self.EPS) + self.beta\n",
    "        # (M, K, H)\n",
    "        return normalized\n",
    "    \n",
    "class gLN(layers.Layer):\n",
    "    def __init__(self, H, EPS = 1e-8):\n",
    "        super(gLN, self).__init__(name=\"gLN\")\n",
    "        self.EPS = EPS\n",
    "        shape = (1,1,H)\n",
    "        self.gamma = tf.Variable(tf.ones(shape),trainable=True,shape=shape)\n",
    "        self.beta = tf.Variable(tf.zeros(shape),trainable=True,shape=shape)\n",
    "\n",
    "    def call(self, input):\n",
    "        # (M, K, H)\n",
    "        E_f = tf.math.reduce_mean(input, axis=(1,2), keepdims=True) # (M, 1, 1)\n",
    "        var = tf.math.reduce_variance(input, axis=(1,2), keepdims=True)# (M, 1, 1)\n",
    "\n",
    "        normalized = self.gamma * (input - E_f) / tf.math.sqrt(var + self.EPS) + self.beta\n",
    "        # (M, K, H)\n",
    "        return normalized\n"
   ]
  },
  {
   "cell_type": "code",
   "execution_count": 26,
   "metadata": {},
   "outputs": [],
   "source": [
    "def show_norm(input):\n",
    "    fig, axes = plt.subplots(1,3, figsize=(12, 4))\n",
    "\n",
    "    norm_c = cLN(H)(input)\n",
    "    norm_g = gLN(H)(input)\n",
    "\n",
    "    axes[0].set_title(\"Not normalized\")\n",
    "    axes[0].plot(input[0][0])\n",
    "\n",
    "    axes[1].set_title(\"Casual normalization\")\n",
    "    axes[1].plot(norm_c[0][0])\n",
    "\n",
    "    axes[2].set_title(\"Global normalization\")\n",
    "    axes[2].plot(norm_g[0][0])\n"
   ]
  },
  {
   "cell_type": "code",
   "execution_count": 30,
   "metadata": {},
   "outputs": [
    {
     "data": {
      "image/png": "[encoded data removed]",
      "text/plain": [
       "<Figure size 1200x400 with 3 Axes>"
      ]
     },
     "metadata": {},
     "output_type": "display_data"
    }
   ],
   "source": [
    "show_norm(test_encoded)"
   ]
  }
 ],
 "metadata": {
  "kernelspec": {
   "display_name": "base",
   "language": "python",
   "name": "python3"
  },
  "language_info": {
   "codemirror_mode": {
    "name": "ipython",
    "version": 3
   },
   "file_extension": ".py",
   "mimetype": "text/x-python",
   "name": "python",
   "nbconvert_exporter": "python",
   "pygments_lexer": "ipython3",
   "version": "3.11.5"
  }
 },
 "nbformat": 4,
 "nbformat_minor": 2
}
