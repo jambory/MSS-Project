{
 "cells": [
  {
   "cell_type": "code",
   "execution_count": 1,
   "metadata": {},
   "outputs": [],
   "source": [
    "import numpy as np\n",
    "import datasets\n",
    "import tensorflow as tf\n",
    "from tensorflow.keras import activations, layers, models\n",
    "import matplotlib.pyplot as plt\n",
    "from parameters import Parameters\n",
    "import convtas\n",
    "from loss import LOGL2,SDR\n",
    "import os\n",
    "import musdb\n"
   ]
  },
  {
   "cell_type": "markdown",
   "metadata": {},
   "source": [
    "First thing we are going to do is to just load our data in. The data when being put through a TensorFlow should be organized in a very specific way. Right now each observation in our data is organized like this : $(2\\cdot M,K,L)$\n",
    "\n",
    "- $M$ = 100; Batch number, remember each batch observation is 2 tensors each one correlating to the left/right audio channel.\n",
    "- $K$ = 40; Index/number of overlapping chunks of waveform.\n",
    "- $L$ = 16; Length of a chunk/sample of data. For this study we will refer to these as chunks.\n",
    "\n",
    "For our outputs the data is structured like: $(2\\cdot M,C,K,L)$\n",
    "\n",
    "- $C$ = 4; Denotes the source target."
   ]
  },
  {
   "cell_type": "code",
   "execution_count": 3,
   "metadata": {},
   "outputs": [
    {
     "name": "stdout",
     "output_type": "stream",
     "text": [
      "Num GPUs Available:  1\n"
     ]
    }
   ],
   "source": [
    "\n",
    "print(\"Num GPUs Available: \", len(tf.config.list_physical_devices('GPU')))\n"
   ]
  },
  {
   "cell_type": "code",
   "execution_count": 4,
   "metadata": {},
   "outputs": [],
   "source": [
    "def make_med_dataset():\n",
    "    datasets = [tf.data.Dataset.load(f'tensors/tensor_dataset_small_{i}') for i in range(10)]\n",
    "\n",
    "    for i, data in enumerate(datasets):\n",
    "        if i == 0:\n",
    "            dataset = data\n",
    "        else: \n",
    "            dataset = dataset.concatenate(data)\n",
    "    \n",
    "    dataset.save('tensors/tensor_dataset_medium')\n",
    "\n",
    "make_med_dataset()"
   ]
  },
  {
   "cell_type": "code",
   "execution_count": 2,
   "metadata": {},
   "outputs": [],
   "source": [
    "dataset = tf.data.Dataset.load(f'tensors/tensor_dataset_medium')"
   ]
  },
  {
   "cell_type": "code",
   "execution_count": 6,
   "metadata": {},
   "outputs": [
    {
     "name": "stdout",
     "output_type": "stream",
     "text": [
      "4000\n"
     ]
    }
   ],
   "source": [
    "print(tf.data.experimental.cardinality(dataset).numpy())"
   ]
  },
  {
   "cell_type": "code",
   "execution_count": 42,
   "metadata": {},
   "outputs": [],
   "source": [
    "param = Parameters()"
   ]
  },
  {
   "cell_type": "code",
   "execution_count": 43,
   "metadata": {},
   "outputs": [],
   "source": [
    "cnn = convtas.ConvTasNet(param)"
   ]
  },
  {
   "cell_type": "code",
   "execution_count": 3,
   "metadata": {},
   "outputs": [],
   "source": [
    "def run_model(model, loss: str, loss_funct, dataset, epochs=10):\n",
    "    # Create a callback that saves the model's weights every 5 epochs\n",
    "    checkpoint_path = f\"training_{loss}_2/cp.ckpt\"\n",
    "    checkpoint_dir = os.path.dirname(checkpoint_path)\n",
    "\n",
    "    # Create a callback that saves the model's weights\n",
    "    cp_callback = tf.keras.callbacks.ModelCheckpoint(filepath=checkpoint_path,\n",
    "                                                    save_weights_only=True,\n",
    "                                                    verbose=1)\n",
    "    \n",
    "    model.compile(optimizer='adam',\n",
    "              loss=loss_funct,\n",
    "              metrics=['accuracy']\n",
    "              )\n",
    "    \n",
    "    history = model.fit(dataset, epochs=epochs, callbacks=[cp_callback])\n",
    "\n",
    "    return history\n",
    "\n",
    "def create_fit_save(dataset, epochs=10):\n",
    "    param = Parameters()\n",
    "    cnn = convtas.ConvTasNet(param)\n",
    "    cnn.load_weights(\"training_LOGL2_2/cp.ckpt\")\n",
    "    hist1 = run_model(cnn, \"LOGL2\", LOGL2(), dataset, epochs=8)\n",
    "    cnn = convtas.ConvTasNet(param)\n",
    "    hist2 = run_model(cnn, \"SDR\", SDR(), dataset)\n",
    "    \n",
    "    return hist1, hist2\n",
    "    \n"
   ]
  },
  {
   "cell_type": "code",
   "execution_count": 4,
   "metadata": {},
   "outputs": [
    {
     "name": "stdout",
     "output_type": "stream",
     "text": [
      "Epoch 1/8\n",
      "WARNING:tensorflow:Gradients do not exist for variables ['ConvTasNet/Separator/TemporalConv/Conv1DBlock/DepthwiseConv/conv1d_96/kernel:0', 'ConvTasNet/Separator/TemporalConv/Conv1DBlock/DepthwiseConv/conv1d_96/bias:0'] when minimizing the loss. If you're using `model.compile()`, did you forget to provide a `loss` argument?\n",
      "WARNING:tensorflow:Gradients do not exist for variables ['ConvTasNet/Separator/TemporalConv/Conv1DBlock/DepthwiseConv/conv1d_96/kernel:0', 'ConvTasNet/Separator/TemporalConv/Conv1DBlock/DepthwiseConv/conv1d_96/bias:0'] when minimizing the loss. If you're using `model.compile()`, did you forget to provide a `loss` argument?\n",
      "4000/4000 [==============================] - ETA: 0s - loss: 1.4906 - accuracy: 0.3134\n",
      "Epoch 1: saving model to training_LOGL2_2\\cp.ckpt\n",
      "4000/4000 [==============================] - 2900s 717ms/step - loss: 1.4906 - accuracy: 0.3134\n",
      "Epoch 2/8\n",
      "4000/4000 [==============================] - ETA: 0s - loss: 1.4869 - accuracy: 0.3145\n",
      "Epoch 2: saving model to training_LOGL2_2\\cp.ckpt\n",
      "4000/4000 [==============================] - 2887s 722ms/step - loss: 1.4869 - accuracy: 0.3145\n",
      "Epoch 3/8\n",
      "4000/4000 [==============================] - ETA: 0s - loss: 1.4835 - accuracy: 0.3158\n",
      "Epoch 3: saving model to training_LOGL2_2\\cp.ckpt\n",
      "4000/4000 [==============================] - 2891s 723ms/step - loss: 1.4835 - accuracy: 0.3158\n",
      "Epoch 4/8\n",
      "4000/4000 [==============================] - ETA: 0s - loss: 1.4802 - accuracy: 0.3164\n",
      "Epoch 4: saving model to training_LOGL2_2\\cp.ckpt\n",
      "4000/4000 [==============================] - 2889s 722ms/step - loss: 1.4802 - accuracy: 0.3164\n",
      "Epoch 5/8\n",
      "4000/4000 [==============================] - ETA: 0s - loss: 1.4768 - accuracy: 0.3156\n",
      "Epoch 5: saving model to training_LOGL2_2\\cp.ckpt\n",
      "4000/4000 [==============================] - 2895s 724ms/step - loss: 1.4768 - accuracy: 0.3156\n",
      "Epoch 6/8\n",
      "4000/4000 [==============================] - ETA: 0s - loss: 1.4736 - accuracy: 0.3162\n",
      "Epoch 6: saving model to training_LOGL2_2\\cp.ckpt\n",
      "4000/4000 [==============================] - 2884s 721ms/step - loss: 1.4736 - accuracy: 0.3162\n",
      "Epoch 7/8\n",
      "4000/4000 [==============================] - ETA: 0s - loss: 1.4703 - accuracy: 0.3160\n",
      "Epoch 7: saving model to training_LOGL2_2\\cp.ckpt\n",
      "4000/4000 [==============================] - 2883s 721ms/step - loss: 1.4703 - accuracy: 0.3160\n",
      "Epoch 8/8\n",
      "4000/4000 [==============================] - ETA: 0s - loss: 1.4671 - accuracy: 0.3153\n",
      "Epoch 8: saving model to training_LOGL2_2\\cp.ckpt\n",
      "4000/4000 [==============================] - 2883s 721ms/step - loss: 1.4671 - accuracy: 0.3153\n",
      "Epoch 1/10\n",
      "WARNING:tensorflow:Gradients do not exist for variables ['ConvTasNet/Separator/TemporalConv/Conv1DBlock/DepthwiseConv/conv1d_195/kernel:0', 'ConvTasNet/Separator/TemporalConv/Conv1DBlock/DepthwiseConv/conv1d_195/bias:0'] when minimizing the loss. If you're using `model.compile()`, did you forget to provide a `loss` argument?\n",
      "WARNING:tensorflow:Gradients do not exist for variables ['ConvTasNet/Separator/TemporalConv/Conv1DBlock/DepthwiseConv/conv1d_195/kernel:0', 'ConvTasNet/Separator/TemporalConv/Conv1DBlock/DepthwiseConv/conv1d_195/bias:0'] when minimizing the loss. If you're using `model.compile()`, did you forget to provide a `loss` argument?\n",
      "4000/4000 [==============================] - ETA: 0s - loss: -2.8411 - accuracy: 0.2659\n",
      "Epoch 1: saving model to training_SDR_2\\cp.ckpt\n",
      "4000/4000 [==============================] - 2912s 721ms/step - loss: -2.8411 - accuracy: 0.2659\n",
      "Epoch 2/10\n",
      "3130/4000 [======================>.......] - ETA: 10:28 - loss: -3.1291 - accuracy: 0.2820"
     ]
    },
    {
     "ename": "KeyboardInterrupt",
     "evalue": "",
     "output_type": "error",
     "traceback": [
      "\u001b[1;31m---------------------------------------------------------------------------\u001b[0m",
      "\u001b[1;31mKeyboardInterrupt\u001b[0m                         Traceback (most recent call last)",
      "Cell \u001b[1;32mIn[4], line 1\u001b[0m\n\u001b[1;32m----> 1\u001b[0m \u001b[43mcreate_fit_save\u001b[49m\u001b[43m(\u001b[49m\u001b[43mdataset\u001b[49m\u001b[43m)\u001b[49m\n",
      "Cell \u001b[1;32mIn[3], line 26\u001b[0m, in \u001b[0;36mcreate_fit_save\u001b[1;34m(dataset, epochs)\u001b[0m\n\u001b[0;32m     24\u001b[0m hist1 \u001b[38;5;241m=\u001b[39m run_model(cnn, \u001b[38;5;124m\"\u001b[39m\u001b[38;5;124mLOGL2\u001b[39m\u001b[38;5;124m\"\u001b[39m, LOGL2(), dataset, epochs\u001b[38;5;241m=\u001b[39m\u001b[38;5;241m8\u001b[39m)\n\u001b[0;32m     25\u001b[0m cnn \u001b[38;5;241m=\u001b[39m convtas\u001b[38;5;241m.\u001b[39mConvTasNet(param)\n\u001b[1;32m---> 26\u001b[0m hist2 \u001b[38;5;241m=\u001b[39m \u001b[43mrun_model\u001b[49m\u001b[43m(\u001b[49m\u001b[43mcnn\u001b[49m\u001b[43m,\u001b[49m\u001b[43m \u001b[49m\u001b[38;5;124;43m\"\u001b[39;49m\u001b[38;5;124;43mSDR\u001b[39;49m\u001b[38;5;124;43m\"\u001b[39;49m\u001b[43m,\u001b[49m\u001b[43m \u001b[49m\u001b[43mSDR\u001b[49m\u001b[43m(\u001b[49m\u001b[43m)\u001b[49m\u001b[43m,\u001b[49m\u001b[43m \u001b[49m\u001b[43mdataset\u001b[49m\u001b[43m)\u001b[49m\n\u001b[0;32m     28\u001b[0m \u001b[38;5;28;01mreturn\u001b[39;00m hist1, hist2\n",
      "Cell \u001b[1;32mIn[3], line 16\u001b[0m, in \u001b[0;36mrun_model\u001b[1;34m(model, loss, loss_funct, dataset, epochs)\u001b[0m\n\u001b[0;32m      7\u001b[0m cp_callback \u001b[38;5;241m=\u001b[39m tf\u001b[38;5;241m.\u001b[39mkeras\u001b[38;5;241m.\u001b[39mcallbacks\u001b[38;5;241m.\u001b[39mModelCheckpoint(filepath\u001b[38;5;241m=\u001b[39mcheckpoint_path,\n\u001b[0;32m      8\u001b[0m                                                 save_weights_only\u001b[38;5;241m=\u001b[39m\u001b[38;5;28;01mTrue\u001b[39;00m,\n\u001b[0;32m      9\u001b[0m                                                 verbose\u001b[38;5;241m=\u001b[39m\u001b[38;5;241m1\u001b[39m)\n\u001b[0;32m     11\u001b[0m model\u001b[38;5;241m.\u001b[39mcompile(optimizer\u001b[38;5;241m=\u001b[39m\u001b[38;5;124m'\u001b[39m\u001b[38;5;124madam\u001b[39m\u001b[38;5;124m'\u001b[39m,\n\u001b[0;32m     12\u001b[0m           loss\u001b[38;5;241m=\u001b[39mloss_funct,\n\u001b[0;32m     13\u001b[0m           metrics\u001b[38;5;241m=\u001b[39m[\u001b[38;5;124m'\u001b[39m\u001b[38;5;124maccuracy\u001b[39m\u001b[38;5;124m'\u001b[39m]\n\u001b[0;32m     14\u001b[0m           )\n\u001b[1;32m---> 16\u001b[0m history \u001b[38;5;241m=\u001b[39m \u001b[43mmodel\u001b[49m\u001b[38;5;241;43m.\u001b[39;49m\u001b[43mfit\u001b[49m\u001b[43m(\u001b[49m\u001b[43mdataset\u001b[49m\u001b[43m,\u001b[49m\u001b[43m \u001b[49m\u001b[43mepochs\u001b[49m\u001b[38;5;241;43m=\u001b[39;49m\u001b[43mepochs\u001b[49m\u001b[43m,\u001b[49m\u001b[43m \u001b[49m\u001b[43mcallbacks\u001b[49m\u001b[38;5;241;43m=\u001b[39;49m\u001b[43m[\u001b[49m\u001b[43mcp_callback\u001b[49m\u001b[43m]\u001b[49m\u001b[43m)\u001b[49m\n\u001b[0;32m     18\u001b[0m \u001b[38;5;28;01mreturn\u001b[39;00m history\n",
      "File \u001b[1;32mc:\\Users\\cobyw\\anaconda3\\envs\\mss_project\\lib\\site-packages\\keras\\utils\\traceback_utils.py:65\u001b[0m, in \u001b[0;36mfilter_traceback.<locals>.error_handler\u001b[1;34m(*args, **kwargs)\u001b[0m\n\u001b[0;32m     63\u001b[0m filtered_tb \u001b[38;5;241m=\u001b[39m \u001b[38;5;28;01mNone\u001b[39;00m\n\u001b[0;32m     64\u001b[0m \u001b[38;5;28;01mtry\u001b[39;00m:\n\u001b[1;32m---> 65\u001b[0m     \u001b[38;5;28;01mreturn\u001b[39;00m fn(\u001b[38;5;241m*\u001b[39margs, \u001b[38;5;241m*\u001b[39m\u001b[38;5;241m*\u001b[39mkwargs)\n\u001b[0;32m     66\u001b[0m \u001b[38;5;28;01mexcept\u001b[39;00m \u001b[38;5;167;01mException\u001b[39;00m \u001b[38;5;28;01mas\u001b[39;00m e:\n\u001b[0;32m     67\u001b[0m     filtered_tb \u001b[38;5;241m=\u001b[39m _process_traceback_frames(e\u001b[38;5;241m.\u001b[39m__traceback__)\n",
      "File \u001b[1;32mc:\\Users\\cobyw\\anaconda3\\envs\\mss_project\\lib\\site-packages\\keras\\engine\\training.py:1570\u001b[0m, in \u001b[0;36mModel.fit\u001b[1;34m(self, x, y, batch_size, epochs, verbose, callbacks, validation_split, validation_data, shuffle, class_weight, sample_weight, initial_epoch, steps_per_epoch, validation_steps, validation_batch_size, validation_freq, max_queue_size, workers, use_multiprocessing)\u001b[0m\n\u001b[0;32m   1568\u001b[0m logs \u001b[38;5;241m=\u001b[39m tmp_logs\n\u001b[0;32m   1569\u001b[0m end_step \u001b[38;5;241m=\u001b[39m step \u001b[38;5;241m+\u001b[39m data_handler\u001b[38;5;241m.\u001b[39mstep_increment\n\u001b[1;32m-> 1570\u001b[0m \u001b[43mcallbacks\u001b[49m\u001b[38;5;241;43m.\u001b[39;49m\u001b[43mon_train_batch_end\u001b[49m\u001b[43m(\u001b[49m\u001b[43mend_step\u001b[49m\u001b[43m,\u001b[49m\u001b[43m \u001b[49m\u001b[43mlogs\u001b[49m\u001b[43m)\u001b[49m\n\u001b[0;32m   1571\u001b[0m \u001b[38;5;28;01mif\u001b[39;00m \u001b[38;5;28mself\u001b[39m\u001b[38;5;241m.\u001b[39mstop_training:\n\u001b[0;32m   1572\u001b[0m     \u001b[38;5;28;01mbreak\u001b[39;00m\n",
      "File \u001b[1;32mc:\\Users\\cobyw\\anaconda3\\envs\\mss_project\\lib\\site-packages\\keras\\callbacks.py:470\u001b[0m, in \u001b[0;36mCallbackList.on_train_batch_end\u001b[1;34m(self, batch, logs)\u001b[0m\n\u001b[0;32m    463\u001b[0m \u001b[38;5;250m\u001b[39m\u001b[38;5;124;03m\"\"\"Calls the `on_train_batch_end` methods of its callbacks.\u001b[39;00m\n\u001b[0;32m    464\u001b[0m \n\u001b[0;32m    465\u001b[0m \u001b[38;5;124;03mArgs:\u001b[39;00m\n\u001b[0;32m    466\u001b[0m \u001b[38;5;124;03m    batch: Integer, index of batch within the current epoch.\u001b[39;00m\n\u001b[0;32m    467\u001b[0m \u001b[38;5;124;03m    logs: Dict. Aggregated metric results up until this batch.\u001b[39;00m\n\u001b[0;32m    468\u001b[0m \u001b[38;5;124;03m\"\"\"\u001b[39;00m\n\u001b[0;32m    469\u001b[0m \u001b[38;5;28;01mif\u001b[39;00m \u001b[38;5;28mself\u001b[39m\u001b[38;5;241m.\u001b[39m_should_call_train_batch_hooks:\n\u001b[1;32m--> 470\u001b[0m     \u001b[38;5;28;43mself\u001b[39;49m\u001b[38;5;241;43m.\u001b[39;49m\u001b[43m_call_batch_hook\u001b[49m\u001b[43m(\u001b[49m\u001b[43mModeKeys\u001b[49m\u001b[38;5;241;43m.\u001b[39;49m\u001b[43mTRAIN\u001b[49m\u001b[43m,\u001b[49m\u001b[43m \u001b[49m\u001b[38;5;124;43m\"\u001b[39;49m\u001b[38;5;124;43mend\u001b[39;49m\u001b[38;5;124;43m\"\u001b[39;49m\u001b[43m,\u001b[49m\u001b[43m \u001b[49m\u001b[43mbatch\u001b[49m\u001b[43m,\u001b[49m\u001b[43m \u001b[49m\u001b[43mlogs\u001b[49m\u001b[38;5;241;43m=\u001b[39;49m\u001b[43mlogs\u001b[49m\u001b[43m)\u001b[49m\n",
      "File \u001b[1;32mc:\\Users\\cobyw\\anaconda3\\envs\\mss_project\\lib\\site-packages\\keras\\callbacks.py:317\u001b[0m, in \u001b[0;36mCallbackList._call_batch_hook\u001b[1;34m(self, mode, hook, batch, logs)\u001b[0m\n\u001b[0;32m    315\u001b[0m     \u001b[38;5;28mself\u001b[39m\u001b[38;5;241m.\u001b[39m_call_batch_begin_hook(mode, batch, logs)\n\u001b[0;32m    316\u001b[0m \u001b[38;5;28;01melif\u001b[39;00m hook \u001b[38;5;241m==\u001b[39m \u001b[38;5;124m\"\u001b[39m\u001b[38;5;124mend\u001b[39m\u001b[38;5;124m\"\u001b[39m:\n\u001b[1;32m--> 317\u001b[0m     \u001b[38;5;28;43mself\u001b[39;49m\u001b[38;5;241;43m.\u001b[39;49m\u001b[43m_call_batch_end_hook\u001b[49m\u001b[43m(\u001b[49m\u001b[43mmode\u001b[49m\u001b[43m,\u001b[49m\u001b[43m \u001b[49m\u001b[43mbatch\u001b[49m\u001b[43m,\u001b[49m\u001b[43m \u001b[49m\u001b[43mlogs\u001b[49m\u001b[43m)\u001b[49m\n\u001b[0;32m    318\u001b[0m \u001b[38;5;28;01melse\u001b[39;00m:\n\u001b[0;32m    319\u001b[0m     \u001b[38;5;28;01mraise\u001b[39;00m \u001b[38;5;167;01mValueError\u001b[39;00m(\n\u001b[0;32m    320\u001b[0m         \u001b[38;5;124mf\u001b[39m\u001b[38;5;124m\"\u001b[39m\u001b[38;5;124mUnrecognized hook: \u001b[39m\u001b[38;5;132;01m{\u001b[39;00mhook\u001b[38;5;132;01m}\u001b[39;00m\u001b[38;5;124m. \u001b[39m\u001b[38;5;124m\"\u001b[39m\n\u001b[0;32m    321\u001b[0m         \u001b[38;5;124m'\u001b[39m\u001b[38;5;124mExpected values are [\u001b[39m\u001b[38;5;124m\"\u001b[39m\u001b[38;5;124mbegin\u001b[39m\u001b[38;5;124m\"\u001b[39m\u001b[38;5;124m, \u001b[39m\u001b[38;5;124m\"\u001b[39m\u001b[38;5;124mend\u001b[39m\u001b[38;5;124m\"\u001b[39m\u001b[38;5;124m]\u001b[39m\u001b[38;5;124m'\u001b[39m\n\u001b[0;32m    322\u001b[0m     )\n",
      "File \u001b[1;32mc:\\Users\\cobyw\\anaconda3\\envs\\mss_project\\lib\\site-packages\\keras\\callbacks.py:340\u001b[0m, in \u001b[0;36mCallbackList._call_batch_end_hook\u001b[1;34m(self, mode, batch, logs)\u001b[0m\n\u001b[0;32m    337\u001b[0m     batch_time \u001b[38;5;241m=\u001b[39m time\u001b[38;5;241m.\u001b[39mtime() \u001b[38;5;241m-\u001b[39m \u001b[38;5;28mself\u001b[39m\u001b[38;5;241m.\u001b[39m_batch_start_time\n\u001b[0;32m    338\u001b[0m     \u001b[38;5;28mself\u001b[39m\u001b[38;5;241m.\u001b[39m_batch_times\u001b[38;5;241m.\u001b[39mappend(batch_time)\n\u001b[1;32m--> 340\u001b[0m \u001b[38;5;28;43mself\u001b[39;49m\u001b[38;5;241;43m.\u001b[39;49m\u001b[43m_call_batch_hook_helper\u001b[49m\u001b[43m(\u001b[49m\u001b[43mhook_name\u001b[49m\u001b[43m,\u001b[49m\u001b[43m \u001b[49m\u001b[43mbatch\u001b[49m\u001b[43m,\u001b[49m\u001b[43m \u001b[49m\u001b[43mlogs\u001b[49m\u001b[43m)\u001b[49m\n\u001b[0;32m    342\u001b[0m \u001b[38;5;28;01mif\u001b[39;00m \u001b[38;5;28mlen\u001b[39m(\u001b[38;5;28mself\u001b[39m\u001b[38;5;241m.\u001b[39m_batch_times) \u001b[38;5;241m>\u001b[39m\u001b[38;5;241m=\u001b[39m \u001b[38;5;28mself\u001b[39m\u001b[38;5;241m.\u001b[39m_num_batches_for_timing_check:\n\u001b[0;32m    343\u001b[0m     end_hook_name \u001b[38;5;241m=\u001b[39m hook_name\n",
      "File \u001b[1;32mc:\\Users\\cobyw\\anaconda3\\envs\\mss_project\\lib\\site-packages\\keras\\callbacks.py:388\u001b[0m, in \u001b[0;36mCallbackList._call_batch_hook_helper\u001b[1;34m(self, hook_name, batch, logs)\u001b[0m\n\u001b[0;32m    386\u001b[0m \u001b[38;5;28;01mfor\u001b[39;00m callback \u001b[38;5;129;01min\u001b[39;00m \u001b[38;5;28mself\u001b[39m\u001b[38;5;241m.\u001b[39mcallbacks:\n\u001b[0;32m    387\u001b[0m     hook \u001b[38;5;241m=\u001b[39m \u001b[38;5;28mgetattr\u001b[39m(callback, hook_name)\n\u001b[1;32m--> 388\u001b[0m     \u001b[43mhook\u001b[49m\u001b[43m(\u001b[49m\u001b[43mbatch\u001b[49m\u001b[43m,\u001b[49m\u001b[43m \u001b[49m\u001b[43mlogs\u001b[49m\u001b[43m)\u001b[49m\n\u001b[0;32m    390\u001b[0m \u001b[38;5;28;01mif\u001b[39;00m \u001b[38;5;28mself\u001b[39m\u001b[38;5;241m.\u001b[39m_check_timing:\n\u001b[0;32m    391\u001b[0m     \u001b[38;5;28;01mif\u001b[39;00m hook_name \u001b[38;5;129;01mnot\u001b[39;00m \u001b[38;5;129;01min\u001b[39;00m \u001b[38;5;28mself\u001b[39m\u001b[38;5;241m.\u001b[39m_hook_times:\n",
      "File \u001b[1;32mc:\\Users\\cobyw\\anaconda3\\envs\\mss_project\\lib\\site-packages\\keras\\callbacks.py:1081\u001b[0m, in \u001b[0;36mProgbarLogger.on_train_batch_end\u001b[1;34m(self, batch, logs)\u001b[0m\n\u001b[0;32m   1080\u001b[0m \u001b[38;5;28;01mdef\u001b[39;00m \u001b[38;5;21mon_train_batch_end\u001b[39m(\u001b[38;5;28mself\u001b[39m, batch, logs\u001b[38;5;241m=\u001b[39m\u001b[38;5;28;01mNone\u001b[39;00m):\n\u001b[1;32m-> 1081\u001b[0m     \u001b[38;5;28;43mself\u001b[39;49m\u001b[38;5;241;43m.\u001b[39;49m\u001b[43m_batch_update_progbar\u001b[49m\u001b[43m(\u001b[49m\u001b[43mbatch\u001b[49m\u001b[43m,\u001b[49m\u001b[43m \u001b[49m\u001b[43mlogs\u001b[49m\u001b[43m)\u001b[49m\n",
      "File \u001b[1;32mc:\\Users\\cobyw\\anaconda3\\envs\\mss_project\\lib\\site-packages\\keras\\callbacks.py:1157\u001b[0m, in \u001b[0;36mProgbarLogger._batch_update_progbar\u001b[1;34m(self, batch, logs)\u001b[0m\n\u001b[0;32m   1153\u001b[0m     \u001b[38;5;28mself\u001b[39m\u001b[38;5;241m.\u001b[39mseen \u001b[38;5;241m+\u001b[39m\u001b[38;5;241m=\u001b[39m add_seen\n\u001b[0;32m   1155\u001b[0m \u001b[38;5;28;01mif\u001b[39;00m \u001b[38;5;28mself\u001b[39m\u001b[38;5;241m.\u001b[39mverbose \u001b[38;5;241m==\u001b[39m \u001b[38;5;241m1\u001b[39m:\n\u001b[0;32m   1156\u001b[0m     \u001b[38;5;66;03m# Only block async when verbose = 1.\u001b[39;00m\n\u001b[1;32m-> 1157\u001b[0m     logs \u001b[38;5;241m=\u001b[39m \u001b[43mtf_utils\u001b[49m\u001b[38;5;241;43m.\u001b[39;49m\u001b[43msync_to_numpy_or_python_type\u001b[49m\u001b[43m(\u001b[49m\u001b[43mlogs\u001b[49m\u001b[43m)\u001b[49m\n\u001b[0;32m   1158\u001b[0m     \u001b[38;5;28mself\u001b[39m\u001b[38;5;241m.\u001b[39mprogbar\u001b[38;5;241m.\u001b[39mupdate(\u001b[38;5;28mself\u001b[39m\u001b[38;5;241m.\u001b[39mseen, \u001b[38;5;28mlist\u001b[39m(logs\u001b[38;5;241m.\u001b[39mitems()), finalize\u001b[38;5;241m=\u001b[39m\u001b[38;5;28;01mFalse\u001b[39;00m)\n",
      "File \u001b[1;32mc:\\Users\\cobyw\\anaconda3\\envs\\mss_project\\lib\\site-packages\\keras\\utils\\tf_utils.py:635\u001b[0m, in \u001b[0;36msync_to_numpy_or_python_type\u001b[1;34m(tensors)\u001b[0m\n\u001b[0;32m    632\u001b[0m         \u001b[38;5;28;01mreturn\u001b[39;00m t\n\u001b[0;32m    633\u001b[0m     \u001b[38;5;28;01mreturn\u001b[39;00m t\u001b[38;5;241m.\u001b[39mitem() \u001b[38;5;28;01mif\u001b[39;00m np\u001b[38;5;241m.\u001b[39mndim(t) \u001b[38;5;241m==\u001b[39m \u001b[38;5;241m0\u001b[39m \u001b[38;5;28;01melse\u001b[39;00m t\n\u001b[1;32m--> 635\u001b[0m \u001b[38;5;28;01mreturn\u001b[39;00m \u001b[43mtf\u001b[49m\u001b[38;5;241;43m.\u001b[39;49m\u001b[43mnest\u001b[49m\u001b[38;5;241;43m.\u001b[39;49m\u001b[43mmap_structure\u001b[49m\u001b[43m(\u001b[49m\u001b[43m_to_single_numpy_or_python_type\u001b[49m\u001b[43m,\u001b[49m\u001b[43m \u001b[49m\u001b[43mtensors\u001b[49m\u001b[43m)\u001b[49m\n",
      "File \u001b[1;32mc:\\Users\\cobyw\\anaconda3\\envs\\mss_project\\lib\\site-packages\\tensorflow\\python\\util\\nest.py:917\u001b[0m, in \u001b[0;36mmap_structure\u001b[1;34m(func, *structure, **kwargs)\u001b[0m\n\u001b[0;32m    913\u001b[0m flat_structure \u001b[38;5;241m=\u001b[39m (flatten(s, expand_composites) \u001b[38;5;28;01mfor\u001b[39;00m s \u001b[38;5;129;01min\u001b[39;00m structure)\n\u001b[0;32m    914\u001b[0m entries \u001b[38;5;241m=\u001b[39m \u001b[38;5;28mzip\u001b[39m(\u001b[38;5;241m*\u001b[39mflat_structure)\n\u001b[0;32m    916\u001b[0m \u001b[38;5;28;01mreturn\u001b[39;00m pack_sequence_as(\n\u001b[1;32m--> 917\u001b[0m     structure[\u001b[38;5;241m0\u001b[39m], [func(\u001b[38;5;241m*\u001b[39mx) \u001b[38;5;28;01mfor\u001b[39;00m x \u001b[38;5;129;01min\u001b[39;00m entries],\n\u001b[0;32m    918\u001b[0m     expand_composites\u001b[38;5;241m=\u001b[39mexpand_composites)\n",
      "File \u001b[1;32mc:\\Users\\cobyw\\anaconda3\\envs\\mss_project\\lib\\site-packages\\tensorflow\\python\\util\\nest.py:917\u001b[0m, in \u001b[0;36m<listcomp>\u001b[1;34m(.0)\u001b[0m\n\u001b[0;32m    913\u001b[0m flat_structure \u001b[38;5;241m=\u001b[39m (flatten(s, expand_composites) \u001b[38;5;28;01mfor\u001b[39;00m s \u001b[38;5;129;01min\u001b[39;00m structure)\n\u001b[0;32m    914\u001b[0m entries \u001b[38;5;241m=\u001b[39m \u001b[38;5;28mzip\u001b[39m(\u001b[38;5;241m*\u001b[39mflat_structure)\n\u001b[0;32m    916\u001b[0m \u001b[38;5;28;01mreturn\u001b[39;00m pack_sequence_as(\n\u001b[1;32m--> 917\u001b[0m     structure[\u001b[38;5;241m0\u001b[39m], [\u001b[43mfunc\u001b[49m\u001b[43m(\u001b[49m\u001b[38;5;241;43m*\u001b[39;49m\u001b[43mx\u001b[49m\u001b[43m)\u001b[49m \u001b[38;5;28;01mfor\u001b[39;00m x \u001b[38;5;129;01min\u001b[39;00m entries],\n\u001b[0;32m    918\u001b[0m     expand_composites\u001b[38;5;241m=\u001b[39mexpand_composites)\n",
      "File \u001b[1;32mc:\\Users\\cobyw\\anaconda3\\envs\\mss_project\\lib\\site-packages\\keras\\utils\\tf_utils.py:628\u001b[0m, in \u001b[0;36msync_to_numpy_or_python_type.<locals>._to_single_numpy_or_python_type\u001b[1;34m(t)\u001b[0m\n\u001b[0;32m    625\u001b[0m \u001b[38;5;28;01mdef\u001b[39;00m \u001b[38;5;21m_to_single_numpy_or_python_type\u001b[39m(t):\n\u001b[0;32m    626\u001b[0m     \u001b[38;5;66;03m# Don't turn ragged or sparse tensors to NumPy.\u001b[39;00m\n\u001b[0;32m    627\u001b[0m     \u001b[38;5;28;01mif\u001b[39;00m \u001b[38;5;28misinstance\u001b[39m(t, tf\u001b[38;5;241m.\u001b[39mTensor):\n\u001b[1;32m--> 628\u001b[0m         t \u001b[38;5;241m=\u001b[39m \u001b[43mt\u001b[49m\u001b[38;5;241;43m.\u001b[39;49m\u001b[43mnumpy\u001b[49m\u001b[43m(\u001b[49m\u001b[43m)\u001b[49m\n\u001b[0;32m    629\u001b[0m     \u001b[38;5;66;03m# Strings, ragged and sparse tensors don't have .item(). Return them\u001b[39;00m\n\u001b[0;32m    630\u001b[0m     \u001b[38;5;66;03m# as-is.\u001b[39;00m\n\u001b[0;32m    631\u001b[0m     \u001b[38;5;28;01mif\u001b[39;00m \u001b[38;5;129;01mnot\u001b[39;00m \u001b[38;5;28misinstance\u001b[39m(t, (np\u001b[38;5;241m.\u001b[39mndarray, np\u001b[38;5;241m.\u001b[39mgeneric)):\n",
      "File \u001b[1;32mc:\\Users\\cobyw\\anaconda3\\envs\\mss_project\\lib\\site-packages\\tensorflow\\python\\framework\\ops.py:1157\u001b[0m, in \u001b[0;36m_EagerTensorBase.numpy\u001b[1;34m(self)\u001b[0m\n\u001b[0;32m   1134\u001b[0m \u001b[38;5;250m\u001b[39m\u001b[38;5;124;03m\"\"\"Copy of the contents of this Tensor into a NumPy array or scalar.\u001b[39;00m\n\u001b[0;32m   1135\u001b[0m \n\u001b[0;32m   1136\u001b[0m \u001b[38;5;124;03mUnlike NumPy arrays, Tensors are immutable, so this method has to copy\u001b[39;00m\n\u001b[1;32m   (...)\u001b[0m\n\u001b[0;32m   1154\u001b[0m \u001b[38;5;124;03m    NumPy dtype.\u001b[39;00m\n\u001b[0;32m   1155\u001b[0m \u001b[38;5;124;03m\"\"\"\u001b[39;00m\n\u001b[0;32m   1156\u001b[0m \u001b[38;5;66;03m# TODO(slebedev): Consider avoiding a copy for non-CPU or remote tensors.\u001b[39;00m\n\u001b[1;32m-> 1157\u001b[0m maybe_arr \u001b[38;5;241m=\u001b[39m \u001b[38;5;28;43mself\u001b[39;49m\u001b[38;5;241;43m.\u001b[39;49m\u001b[43m_numpy\u001b[49m\u001b[43m(\u001b[49m\u001b[43m)\u001b[49m  \u001b[38;5;66;03m# pylint: disable=protected-access\u001b[39;00m\n\u001b[0;32m   1158\u001b[0m \u001b[38;5;28;01mreturn\u001b[39;00m maybe_arr\u001b[38;5;241m.\u001b[39mcopy() \u001b[38;5;28;01mif\u001b[39;00m \u001b[38;5;28misinstance\u001b[39m(maybe_arr, np\u001b[38;5;241m.\u001b[39mndarray) \u001b[38;5;28;01melse\u001b[39;00m maybe_arr\n",
      "File \u001b[1;32mc:\\Users\\cobyw\\anaconda3\\envs\\mss_project\\lib\\site-packages\\tensorflow\\python\\framework\\ops.py:1123\u001b[0m, in \u001b[0;36m_EagerTensorBase._numpy\u001b[1;34m(self)\u001b[0m\n\u001b[0;32m   1121\u001b[0m \u001b[38;5;28;01mdef\u001b[39;00m \u001b[38;5;21m_numpy\u001b[39m(\u001b[38;5;28mself\u001b[39m):\n\u001b[0;32m   1122\u001b[0m   \u001b[38;5;28;01mtry\u001b[39;00m:\n\u001b[1;32m-> 1123\u001b[0m     \u001b[38;5;28;01mreturn\u001b[39;00m \u001b[38;5;28;43mself\u001b[39;49m\u001b[38;5;241;43m.\u001b[39;49m\u001b[43m_numpy_internal\u001b[49m\u001b[43m(\u001b[49m\u001b[43m)\u001b[49m\n\u001b[0;32m   1124\u001b[0m   \u001b[38;5;28;01mexcept\u001b[39;00m core\u001b[38;5;241m.\u001b[39m_NotOkStatusException \u001b[38;5;28;01mas\u001b[39;00m e:  \u001b[38;5;66;03m# pylint: disable=protected-access\u001b[39;00m\n\u001b[0;32m   1125\u001b[0m     \u001b[38;5;28;01mraise\u001b[39;00m core\u001b[38;5;241m.\u001b[39m_status_to_exception(e) \u001b[38;5;28;01mfrom\u001b[39;00m \u001b[38;5;28;01mNone\u001b[39;00m\n",
      "\u001b[1;31mKeyboardInterrupt\u001b[0m: "
     ]
    }
   ],
   "source": [
    "create_fit_save(dataset)"
   ]
  },
  {
   "cell_type": "code",
   "execution_count": 7,
   "metadata": {},
   "outputs": [],
   "source": [
    "cnn.compile(optimizer='adam',\n",
    "              loss=SDR(),\n",
    "              metrics=['accuracy']\n",
    "              )"
   ]
  },
  {
   "cell_type": "code",
   "execution_count": 8,
   "metadata": {},
   "outputs": [
    {
     "name": "stdout",
     "output_type": "stream",
     "text": [
      "Epoch 1/10\n",
      "WARNING:tensorflow:Gradients do not exist for variables ['ConvTasNet/Separator/TemporalConv/Conv1DBlock/DepthwiseConv/conv1d_96/kernel:0', 'ConvTasNet/Separator/TemporalConv/Conv1DBlock/DepthwiseConv/conv1d_96/bias:0'] when minimizing the loss. If you're using `model.compile()`, did you forget to provide a `loss` argument?\n",
      "WARNING:tensorflow:Gradients do not exist for variables ['ConvTasNet/Separator/TemporalConv/Conv1DBlock/DepthwiseConv/conv1d_96/kernel:0', 'ConvTasNet/Separator/TemporalConv/Conv1DBlock/DepthwiseConv/conv1d_96/bias:0'] when minimizing the loss. If you're using `model.compile()`, did you forget to provide a `loss` argument?\n",
      "400/400 [==============================] - 1168s 3s/step - loss: -2.3059 - accuracy: 0.1951\n",
      "Epoch 2/10\n",
      "400/400 [==============================] - 1174s 3s/step - loss: -2.8136 - accuracy: 0.2347\n",
      "Epoch 3/10\n",
      " 74/400 [====>.........................] - ETA: 3:41 - loss: -2.9191 - accuracy: 0.2421"
     ]
    },
    {
     "ename": "KeyboardInterrupt",
     "evalue": "",
     "output_type": "error",
     "traceback": [
      "\u001b[1;31m---------------------------------------------------------------------------\u001b[0m",
      "\u001b[1;31mKeyboardInterrupt\u001b[0m                         Traceback (most recent call last)",
      "Cell \u001b[1;32mIn[8], line 1\u001b[0m\n\u001b[1;32m----> 1\u001b[0m history \u001b[38;5;241m=\u001b[39m \u001b[43mcnn\u001b[49m\u001b[38;5;241;43m.\u001b[39;49m\u001b[43mfit\u001b[49m\u001b[43m(\u001b[49m\u001b[43mdataset\u001b[49m\u001b[43m,\u001b[49m\u001b[43m \u001b[49m\u001b[43mepochs\u001b[49m\u001b[38;5;241;43m=\u001b[39;49m\u001b[38;5;241;43m10\u001b[39;49m\u001b[43m)\u001b[49m\n",
      "File \u001b[1;32mc:\\Users\\cobyw\\anaconda3\\envs\\mss_project\\lib\\site-packages\\keras\\utils\\traceback_utils.py:65\u001b[0m, in \u001b[0;36mfilter_traceback.<locals>.error_handler\u001b[1;34m(*args, **kwargs)\u001b[0m\n\u001b[0;32m     63\u001b[0m filtered_tb \u001b[38;5;241m=\u001b[39m \u001b[38;5;28;01mNone\u001b[39;00m\n\u001b[0;32m     64\u001b[0m \u001b[38;5;28;01mtry\u001b[39;00m:\n\u001b[1;32m---> 65\u001b[0m     \u001b[38;5;28;01mreturn\u001b[39;00m fn(\u001b[38;5;241m*\u001b[39margs, \u001b[38;5;241m*\u001b[39m\u001b[38;5;241m*\u001b[39mkwargs)\n\u001b[0;32m     66\u001b[0m \u001b[38;5;28;01mexcept\u001b[39;00m \u001b[38;5;167;01mException\u001b[39;00m \u001b[38;5;28;01mas\u001b[39;00m e:\n\u001b[0;32m     67\u001b[0m     filtered_tb \u001b[38;5;241m=\u001b[39m _process_traceback_frames(e\u001b[38;5;241m.\u001b[39m__traceback__)\n",
      "File \u001b[1;32mc:\\Users\\cobyw\\anaconda3\\envs\\mss_project\\lib\\site-packages\\keras\\engine\\training.py:1564\u001b[0m, in \u001b[0;36mModel.fit\u001b[1;34m(self, x, y, batch_size, epochs, verbose, callbacks, validation_split, validation_data, shuffle, class_weight, sample_weight, initial_epoch, steps_per_epoch, validation_steps, validation_batch_size, validation_freq, max_queue_size, workers, use_multiprocessing)\u001b[0m\n\u001b[0;32m   1556\u001b[0m \u001b[38;5;28;01mwith\u001b[39;00m tf\u001b[38;5;241m.\u001b[39mprofiler\u001b[38;5;241m.\u001b[39mexperimental\u001b[38;5;241m.\u001b[39mTrace(\n\u001b[0;32m   1557\u001b[0m     \u001b[38;5;124m\"\u001b[39m\u001b[38;5;124mtrain\u001b[39m\u001b[38;5;124m\"\u001b[39m,\n\u001b[0;32m   1558\u001b[0m     epoch_num\u001b[38;5;241m=\u001b[39mepoch,\n\u001b[1;32m   (...)\u001b[0m\n\u001b[0;32m   1561\u001b[0m     _r\u001b[38;5;241m=\u001b[39m\u001b[38;5;241m1\u001b[39m,\n\u001b[0;32m   1562\u001b[0m ):\n\u001b[0;32m   1563\u001b[0m     callbacks\u001b[38;5;241m.\u001b[39mon_train_batch_begin(step)\n\u001b[1;32m-> 1564\u001b[0m     tmp_logs \u001b[38;5;241m=\u001b[39m \u001b[38;5;28;43mself\u001b[39;49m\u001b[38;5;241;43m.\u001b[39;49m\u001b[43mtrain_function\u001b[49m\u001b[43m(\u001b[49m\u001b[43miterator\u001b[49m\u001b[43m)\u001b[49m\n\u001b[0;32m   1565\u001b[0m     \u001b[38;5;28;01mif\u001b[39;00m data_handler\u001b[38;5;241m.\u001b[39mshould_sync:\n\u001b[0;32m   1566\u001b[0m         context\u001b[38;5;241m.\u001b[39masync_wait()\n",
      "File \u001b[1;32mc:\\Users\\cobyw\\anaconda3\\envs\\mss_project\\lib\\site-packages\\tensorflow\\python\\util\\traceback_utils.py:150\u001b[0m, in \u001b[0;36mfilter_traceback.<locals>.error_handler\u001b[1;34m(*args, **kwargs)\u001b[0m\n\u001b[0;32m    148\u001b[0m filtered_tb \u001b[38;5;241m=\u001b[39m \u001b[38;5;28;01mNone\u001b[39;00m\n\u001b[0;32m    149\u001b[0m \u001b[38;5;28;01mtry\u001b[39;00m:\n\u001b[1;32m--> 150\u001b[0m   \u001b[38;5;28;01mreturn\u001b[39;00m fn(\u001b[38;5;241m*\u001b[39margs, \u001b[38;5;241m*\u001b[39m\u001b[38;5;241m*\u001b[39mkwargs)\n\u001b[0;32m    151\u001b[0m \u001b[38;5;28;01mexcept\u001b[39;00m \u001b[38;5;167;01mException\u001b[39;00m \u001b[38;5;28;01mas\u001b[39;00m e:\n\u001b[0;32m    152\u001b[0m   filtered_tb \u001b[38;5;241m=\u001b[39m _process_traceback_frames(e\u001b[38;5;241m.\u001b[39m__traceback__)\n",
      "File \u001b[1;32mc:\\Users\\cobyw\\anaconda3\\envs\\mss_project\\lib\\site-packages\\tensorflow\\python\\eager\\def_function.py:915\u001b[0m, in \u001b[0;36mFunction.__call__\u001b[1;34m(self, *args, **kwds)\u001b[0m\n\u001b[0;32m    912\u001b[0m compiler \u001b[38;5;241m=\u001b[39m \u001b[38;5;124m\"\u001b[39m\u001b[38;5;124mxla\u001b[39m\u001b[38;5;124m\"\u001b[39m \u001b[38;5;28;01mif\u001b[39;00m \u001b[38;5;28mself\u001b[39m\u001b[38;5;241m.\u001b[39m_jit_compile \u001b[38;5;28;01melse\u001b[39;00m \u001b[38;5;124m\"\u001b[39m\u001b[38;5;124mnonXla\u001b[39m\u001b[38;5;124m\"\u001b[39m\n\u001b[0;32m    914\u001b[0m \u001b[38;5;28;01mwith\u001b[39;00m OptionalXlaContext(\u001b[38;5;28mself\u001b[39m\u001b[38;5;241m.\u001b[39m_jit_compile):\n\u001b[1;32m--> 915\u001b[0m   result \u001b[38;5;241m=\u001b[39m \u001b[38;5;28mself\u001b[39m\u001b[38;5;241m.\u001b[39m_call(\u001b[38;5;241m*\u001b[39margs, \u001b[38;5;241m*\u001b[39m\u001b[38;5;241m*\u001b[39mkwds)\n\u001b[0;32m    917\u001b[0m new_tracing_count \u001b[38;5;241m=\u001b[39m \u001b[38;5;28mself\u001b[39m\u001b[38;5;241m.\u001b[39mexperimental_get_tracing_count()\n\u001b[0;32m    918\u001b[0m without_tracing \u001b[38;5;241m=\u001b[39m (tracing_count \u001b[38;5;241m==\u001b[39m new_tracing_count)\n",
      "File \u001b[1;32mc:\\Users\\cobyw\\anaconda3\\envs\\mss_project\\lib\\site-packages\\tensorflow\\python\\eager\\def_function.py:947\u001b[0m, in \u001b[0;36mFunction._call\u001b[1;34m(self, *args, **kwds)\u001b[0m\n\u001b[0;32m    944\u001b[0m   \u001b[38;5;28mself\u001b[39m\u001b[38;5;241m.\u001b[39m_lock\u001b[38;5;241m.\u001b[39mrelease()\n\u001b[0;32m    945\u001b[0m   \u001b[38;5;66;03m# In this case we have created variables on the first call, so we run the\u001b[39;00m\n\u001b[0;32m    946\u001b[0m   \u001b[38;5;66;03m# defunned version which is guaranteed to never create variables.\u001b[39;00m\n\u001b[1;32m--> 947\u001b[0m   \u001b[38;5;28;01mreturn\u001b[39;00m \u001b[38;5;28mself\u001b[39m\u001b[38;5;241m.\u001b[39m_stateless_fn(\u001b[38;5;241m*\u001b[39margs, \u001b[38;5;241m*\u001b[39m\u001b[38;5;241m*\u001b[39mkwds)  \u001b[38;5;66;03m# pylint: disable=not-callable\u001b[39;00m\n\u001b[0;32m    948\u001b[0m \u001b[38;5;28;01melif\u001b[39;00m \u001b[38;5;28mself\u001b[39m\u001b[38;5;241m.\u001b[39m_stateful_fn \u001b[38;5;129;01mis\u001b[39;00m \u001b[38;5;129;01mnot\u001b[39;00m \u001b[38;5;28;01mNone\u001b[39;00m:\n\u001b[0;32m    949\u001b[0m   \u001b[38;5;66;03m# Release the lock early so that multiple threads can perform the call\u001b[39;00m\n\u001b[0;32m    950\u001b[0m   \u001b[38;5;66;03m# in parallel.\u001b[39;00m\n\u001b[0;32m    951\u001b[0m   \u001b[38;5;28mself\u001b[39m\u001b[38;5;241m.\u001b[39m_lock\u001b[38;5;241m.\u001b[39mrelease()\n",
      "File \u001b[1;32mc:\\Users\\cobyw\\anaconda3\\envs\\mss_project\\lib\\site-packages\\tensorflow\\python\\eager\\function.py:2496\u001b[0m, in \u001b[0;36mFunction.__call__\u001b[1;34m(self, *args, **kwargs)\u001b[0m\n\u001b[0;32m   2493\u001b[0m \u001b[38;5;28;01mwith\u001b[39;00m \u001b[38;5;28mself\u001b[39m\u001b[38;5;241m.\u001b[39m_lock:\n\u001b[0;32m   2494\u001b[0m   (graph_function,\n\u001b[0;32m   2495\u001b[0m    filtered_flat_args) \u001b[38;5;241m=\u001b[39m \u001b[38;5;28mself\u001b[39m\u001b[38;5;241m.\u001b[39m_maybe_define_function(args, kwargs)\n\u001b[1;32m-> 2496\u001b[0m \u001b[38;5;28;01mreturn\u001b[39;00m \u001b[43mgraph_function\u001b[49m\u001b[38;5;241;43m.\u001b[39;49m\u001b[43m_call_flat\u001b[49m\u001b[43m(\u001b[49m\n\u001b[0;32m   2497\u001b[0m \u001b[43m    \u001b[49m\u001b[43mfiltered_flat_args\u001b[49m\u001b[43m,\u001b[49m\u001b[43m \u001b[49m\u001b[43mcaptured_inputs\u001b[49m\u001b[38;5;241;43m=\u001b[39;49m\u001b[43mgraph_function\u001b[49m\u001b[38;5;241;43m.\u001b[39;49m\u001b[43mcaptured_inputs\u001b[49m\u001b[43m)\u001b[49m\n",
      "File \u001b[1;32mc:\\Users\\cobyw\\anaconda3\\envs\\mss_project\\lib\\site-packages\\tensorflow\\python\\eager\\function.py:1862\u001b[0m, in \u001b[0;36mConcreteFunction._call_flat\u001b[1;34m(self, args, captured_inputs, cancellation_manager)\u001b[0m\n\u001b[0;32m   1858\u001b[0m possible_gradient_type \u001b[38;5;241m=\u001b[39m gradients_util\u001b[38;5;241m.\u001b[39mPossibleTapeGradientTypes(args)\n\u001b[0;32m   1859\u001b[0m \u001b[38;5;28;01mif\u001b[39;00m (possible_gradient_type \u001b[38;5;241m==\u001b[39m gradients_util\u001b[38;5;241m.\u001b[39mPOSSIBLE_GRADIENT_TYPES_NONE\n\u001b[0;32m   1860\u001b[0m     \u001b[38;5;129;01mand\u001b[39;00m executing_eagerly):\n\u001b[0;32m   1861\u001b[0m   \u001b[38;5;66;03m# No tape is watching; skip to running the function.\u001b[39;00m\n\u001b[1;32m-> 1862\u001b[0m   \u001b[38;5;28;01mreturn\u001b[39;00m \u001b[38;5;28mself\u001b[39m\u001b[38;5;241m.\u001b[39m_build_call_outputs(\u001b[38;5;28;43mself\u001b[39;49m\u001b[38;5;241;43m.\u001b[39;49m\u001b[43m_inference_function\u001b[49m\u001b[38;5;241;43m.\u001b[39;49m\u001b[43mcall\u001b[49m\u001b[43m(\u001b[49m\n\u001b[0;32m   1863\u001b[0m \u001b[43m      \u001b[49m\u001b[43mctx\u001b[49m\u001b[43m,\u001b[49m\u001b[43m \u001b[49m\u001b[43margs\u001b[49m\u001b[43m,\u001b[49m\u001b[43m \u001b[49m\u001b[43mcancellation_manager\u001b[49m\u001b[38;5;241;43m=\u001b[39;49m\u001b[43mcancellation_manager\u001b[49m\u001b[43m)\u001b[49m)\n\u001b[0;32m   1864\u001b[0m forward_backward \u001b[38;5;241m=\u001b[39m \u001b[38;5;28mself\u001b[39m\u001b[38;5;241m.\u001b[39m_select_forward_and_backward_functions(\n\u001b[0;32m   1865\u001b[0m     args,\n\u001b[0;32m   1866\u001b[0m     possible_gradient_type,\n\u001b[0;32m   1867\u001b[0m     executing_eagerly)\n\u001b[0;32m   1868\u001b[0m forward_function, args_with_tangents \u001b[38;5;241m=\u001b[39m forward_backward\u001b[38;5;241m.\u001b[39mforward()\n",
      "File \u001b[1;32mc:\\Users\\cobyw\\anaconda3\\envs\\mss_project\\lib\\site-packages\\tensorflow\\python\\eager\\function.py:499\u001b[0m, in \u001b[0;36m_EagerDefinedFunction.call\u001b[1;34m(self, ctx, args, cancellation_manager)\u001b[0m\n\u001b[0;32m    497\u001b[0m \u001b[38;5;28;01mwith\u001b[39;00m _InterpolateFunctionError(\u001b[38;5;28mself\u001b[39m):\n\u001b[0;32m    498\u001b[0m   \u001b[38;5;28;01mif\u001b[39;00m cancellation_manager \u001b[38;5;129;01mis\u001b[39;00m \u001b[38;5;28;01mNone\u001b[39;00m:\n\u001b[1;32m--> 499\u001b[0m     outputs \u001b[38;5;241m=\u001b[39m \u001b[43mexecute\u001b[49m\u001b[38;5;241;43m.\u001b[39;49m\u001b[43mexecute\u001b[49m\u001b[43m(\u001b[49m\n\u001b[0;32m    500\u001b[0m \u001b[43m        \u001b[49m\u001b[38;5;28;43mstr\u001b[39;49m\u001b[43m(\u001b[49m\u001b[38;5;28;43mself\u001b[39;49m\u001b[38;5;241;43m.\u001b[39;49m\u001b[43msignature\u001b[49m\u001b[38;5;241;43m.\u001b[39;49m\u001b[43mname\u001b[49m\u001b[43m)\u001b[49m\u001b[43m,\u001b[49m\n\u001b[0;32m    501\u001b[0m \u001b[43m        \u001b[49m\u001b[43mnum_outputs\u001b[49m\u001b[38;5;241;43m=\u001b[39;49m\u001b[38;5;28;43mself\u001b[39;49m\u001b[38;5;241;43m.\u001b[39;49m\u001b[43m_num_outputs\u001b[49m\u001b[43m,\u001b[49m\n\u001b[0;32m    502\u001b[0m \u001b[43m        \u001b[49m\u001b[43minputs\u001b[49m\u001b[38;5;241;43m=\u001b[39;49m\u001b[43margs\u001b[49m\u001b[43m,\u001b[49m\n\u001b[0;32m    503\u001b[0m \u001b[43m        \u001b[49m\u001b[43mattrs\u001b[49m\u001b[38;5;241;43m=\u001b[39;49m\u001b[43mattrs\u001b[49m\u001b[43m,\u001b[49m\n\u001b[0;32m    504\u001b[0m \u001b[43m        \u001b[49m\u001b[43mctx\u001b[49m\u001b[38;5;241;43m=\u001b[39;49m\u001b[43mctx\u001b[49m\u001b[43m)\u001b[49m\n\u001b[0;32m    505\u001b[0m   \u001b[38;5;28;01melse\u001b[39;00m:\n\u001b[0;32m    506\u001b[0m     outputs \u001b[38;5;241m=\u001b[39m execute\u001b[38;5;241m.\u001b[39mexecute_with_cancellation(\n\u001b[0;32m    507\u001b[0m         \u001b[38;5;28mstr\u001b[39m(\u001b[38;5;28mself\u001b[39m\u001b[38;5;241m.\u001b[39msignature\u001b[38;5;241m.\u001b[39mname),\n\u001b[0;32m    508\u001b[0m         num_outputs\u001b[38;5;241m=\u001b[39m\u001b[38;5;28mself\u001b[39m\u001b[38;5;241m.\u001b[39m_num_outputs,\n\u001b[1;32m   (...)\u001b[0m\n\u001b[0;32m    511\u001b[0m         ctx\u001b[38;5;241m=\u001b[39mctx,\n\u001b[0;32m    512\u001b[0m         cancellation_manager\u001b[38;5;241m=\u001b[39mcancellation_manager)\n",
      "File \u001b[1;32mc:\\Users\\cobyw\\anaconda3\\envs\\mss_project\\lib\\site-packages\\tensorflow\\python\\eager\\execute.py:54\u001b[0m, in \u001b[0;36mquick_execute\u001b[1;34m(op_name, num_outputs, inputs, attrs, ctx, name)\u001b[0m\n\u001b[0;32m     52\u001b[0m \u001b[38;5;28;01mtry\u001b[39;00m:\n\u001b[0;32m     53\u001b[0m   ctx\u001b[38;5;241m.\u001b[39mensure_initialized()\n\u001b[1;32m---> 54\u001b[0m   tensors \u001b[38;5;241m=\u001b[39m \u001b[43mpywrap_tfe\u001b[49m\u001b[38;5;241;43m.\u001b[39;49m\u001b[43mTFE_Py_Execute\u001b[49m\u001b[43m(\u001b[49m\u001b[43mctx\u001b[49m\u001b[38;5;241;43m.\u001b[39;49m\u001b[43m_handle\u001b[49m\u001b[43m,\u001b[49m\u001b[43m \u001b[49m\u001b[43mdevice_name\u001b[49m\u001b[43m,\u001b[49m\u001b[43m \u001b[49m\u001b[43mop_name\u001b[49m\u001b[43m,\u001b[49m\n\u001b[0;32m     55\u001b[0m \u001b[43m                                      \u001b[49m\u001b[43minputs\u001b[49m\u001b[43m,\u001b[49m\u001b[43m \u001b[49m\u001b[43mattrs\u001b[49m\u001b[43m,\u001b[49m\u001b[43m \u001b[49m\u001b[43mnum_outputs\u001b[49m\u001b[43m)\u001b[49m\n\u001b[0;32m     56\u001b[0m \u001b[38;5;28;01mexcept\u001b[39;00m core\u001b[38;5;241m.\u001b[39m_NotOkStatusException \u001b[38;5;28;01mas\u001b[39;00m e:\n\u001b[0;32m     57\u001b[0m   \u001b[38;5;28;01mif\u001b[39;00m name \u001b[38;5;129;01mis\u001b[39;00m \u001b[38;5;129;01mnot\u001b[39;00m \u001b[38;5;28;01mNone\u001b[39;00m:\n",
      "\u001b[1;31mKeyboardInterrupt\u001b[0m: "
     ]
    }
   ],
   "source": [
    "history = cnn.fit(dataset, epochs=10)"
   ]
  },
  {
   "cell_type": "code",
   "execution_count": 9,
   "metadata": {},
   "outputs": [
    {
     "data": {
      "text/plain": [
       "Text(0.5, 0, 'Epoch')"
      ]
     },
     "execution_count": 9,
     "metadata": {},
     "output_type": "execute_result"
    },
    {
     "data": {
      "image/png": "[encoded data removed]",
      "text/plain": [
       "<Figure size 640x480 with 1 Axes>"
      ]
     },
     "metadata": {},
     "output_type": "display_data"
    }
   ],
   "source": [
    "plt.plot(history.history['accuracy'], label='accuracy')\n",
    "plt.plot(history.history['loss'], label = 'MSE')\n",
    "plt.xlabel('Epoch')"
   ]
  },
  {
   "cell_type": "code",
   "execution_count": 2,
   "metadata": {},
   "outputs": [],
   "source": [
    "class ConvTasNet(models.Model):\n",
    "    \"\"\"\n",
    "    Full Conv-TasNet model, coded in TensorFlow. I heavily relied upon, upon Jane Wu's TensorFlow implementation (https://github.com/JaneWuNEU/Conv-TasNet-2)\n",
    "    to get this to work. nplab's and kaituoxu's PyTorch implementations of the model were also instrumental for my understanding of the model.\n",
    "    \n",
    "    To explain what the model is doing in the most basic way, it takes a dataset of overlapping chunks of a audio in a waveform format then \n",
    "    encodes them using a simple 1D convolution. With this input data, the model is then put through several iterations of downsampling to get \n",
    "    features from the data. These features are then turned into separate masks for each target source in the audio data. Finally the masks are \n",
    "    applied to the orginal encoded data, which is finally put back into its orginal waveform data format with a Transpose 1D convolution.\n",
    "\n",
    "    To understand the shape of the data throughout the model, I highly recommend looking at the Parameters class documentation, but I tried to \n",
    "    give documentation to the important paramters throughout the layers documentation as well. \n",
    "    \"\"\"\n",
    "    def __init__(self, param: Parameters):\n",
    "        super().__init__(name=\"ConvTasNet\")\n",
    "        self.param = param\n",
    "\n",
    "\n",
    "        self.encoder = Encoder(self.param)\n",
    "        self.separator = Separator(self.param)\n",
    "        self.decoder = Decoder(self.param)\n",
    "\n",
    "    def call(self, x):\n",
    "        w = self.encoder(x)\n",
    "        m_i = self.separator(w)\n",
    "\n",
    "        decoded = self.decoder(w, m_i)\n",
    "\n",
    "        return decoded"
   ]
  },
  {
   "cell_type": "code",
   "execution_count": 19,
   "metadata": {},
   "outputs": [],
   "source": [
    "param = Parameters(naplab_impl=True)"
   ]
  },
  {
   "cell_type": "code",
   "execution_count": 20,
   "metadata": {},
   "outputs": [],
   "source": [
    "cnn = ConvTasNet(param)\n",
    "output = cnn(data)"
   ]
  },
  {
   "cell_type": "code",
   "execution_count": 13,
   "metadata": {},
   "outputs": [
    {
     "data": {
      "text/plain": [
       "[<matplotlib.lines.Line2D at 0x2c75fca4d00>]"
      ]
     },
     "execution_count": 13,
     "metadata": {},
     "output_type": "execute_result"
    },
    {
     "data": {
      "image/png": "[encoded data removed]",
      "text/plain": [
       "<Figure size 640x480 with 1 Axes>"
      ]
     },
     "metadata": {},
     "output_type": "display_data"
    }
   ],
   "source": [
    "plt.plot(output[0,0,:])"
   ]
  },
  {
   "cell_type": "code",
   "execution_count": 11,
   "metadata": {},
   "outputs": [],
   "source": [
    "class Encoder(layers.Layer):\n",
    "    \"\"\" \n",
    "    First step of model not counting, preprocessing data. Puts the inputs through a 1D Convolutional layer with N output channels. The encoder also includes a activation\n",
    "    function of a ReLU layer.\n",
    "\n",
    "    Args: \n",
    "        N: Encoder output size\n",
    "        win: Kernel size of encoder.\n",
    "\n",
    "    \"\"\"\n",
    "    def __init__(self, param: Parameters):\n",
    "        super(Encoder, self).__init__(name='Encoder')\n",
    "        self.U = layers.Conv1D(param.N,param.win,strides=param.overlap,activation=\"relu\",use_bias=False, data_format=\"channels_last\")\n",
    "\n",
    "    def call(self, x): # (M, T)\n",
    "        batch_count,sample_count = x.shape\n",
    "        x = tf.reshape(x, (batch_count, sample_count, 1)) # (M, T, 1)\n",
    "        return self.U(x) # (M, K, N)\n",
    "\n",
    "        \n",
    "class Separator(layers.Layer):\n",
    "    \"\"\" \n",
    "    To begin the we take the output of the encoder which we then normalize it and feed it into a 1x1Convolution.\n",
    "    This layer repeats a Temporal Convolution Block multiple times, wherin, what is refered to as a Conv1D Block in the paper, is repeated\n",
    "    several times for each instance of a Temporal Convolutional Block. Finally the output of the Temporal blocks is input into a 1x1 Convolution\n",
    "    with C*N output channels.\n",
    "    Args:\n",
    "        N: (int) Encoder output size\n",
    "        B: (int) Bottleneck Conv1DBlock output size\n",
    "        R: (int) Amount of repeats of the Temporal Convolution block\n",
    "        X: (int) Amount of times Conv1DBlock is applied in a Temporal Convolution block\n",
    "        H: (int) Conv1DBlock input size\n",
    "        C: (int) Amount of sources being estimated\n",
    "        P: (int) Size of kernel in depthwise convolutions\n",
    "    \n",
    "    \"\"\"\n",
    "    def __init__(self, param: Parameters):\n",
    "        super(Separator, self).__init__(name='Separator')\n",
    "        self.C = param.C\n",
    "        self.N = param.N\n",
    "        self.skip=param.skip\n",
    "        if param.casual:\n",
    "            self.normalization = cLN(param.N)\n",
    "        else:\n",
    "            self.normalization = gLN(param.N) \n",
    "        self.bottle_neck = layers.Conv1D(param.B,1)\n",
    "        \n",
    "        self.temporal_conv = [TemporalConv(param.X, param.H, param.B, param.P, param.casual, skip=param.skip) for r in range(param.R)]\n",
    "        self.skip_conn = layers.Add()\n",
    "        self.prelu = layers.PReLU()\n",
    "        self.m_i = layers.Conv1D(param.C*param.N, 1)\n",
    "\n",
    "    def call(self, w): # (M, K, N)\n",
    "        M, K, _ = w.shape\n",
    "        normalized_w = self.normalization(w) # (M, K, N)\n",
    "        output = self.bottle_neck(normalized_w) # (M, K, B)\n",
    "        skip_list = []\n",
    "        for i,block in enumerate(self.temporal_conv):\n",
    "            if self.skip:\n",
    "                output, skips = block(output)\n",
    "                skip_list.append(skips)\n",
    "            else:\n",
    "                output = block(output)\n",
    "        # (M, K, B)\n",
    "        if self.skip:\n",
    "            output = self.skip_conn(skip_list)\n",
    "\n",
    "        output = self.prelu(output)\n",
    "        estimated_masks = self.m_i(output) # (M, K, C*N)\n",
    "        estimated_masks = activations.sigmoid(tf.reshape(estimated_masks, (M, self.C, K, self.N))) # (M, C, K, N)\n",
    "        return estimated_masks\n",
    "    \n",
    "class Decoder(layers.Layer):\n",
    "    \"\"\" \n",
    "    This is layer is final part of the model. Taking the features obtained, from the Conv1D blocks masks are finally combined into with the\n",
    "    original mix into the estimated sources.\n",
    "\n",
    "    Args:\n",
    "        L : (int) length of individual chunks of audio.\n",
    "    \"\"\"\n",
    "    def __init__(self, param: Parameters):\n",
    "        super(Decoder, self).__init__(name='Decoder')\n",
    "        self.C = param.C\n",
    "        self.L = param.L\n",
    "        self.N = param.N\n",
    "        self.win = param.win\n",
    "        self.naplab_impl = param.naplab_impl\n",
    "        self.overlap = param.overlap\n",
    "\n",
    "        if not self.naplab_impl:\n",
    "            self.transpose_conv = layers.Conv1DTranspose(self.L,self.win,strides=param.overlap,use_bias=False)\n",
    "        else:\n",
    "            self.transpose_conv = layers.Conv1DTranspose(1,self.win,strides=param.overlap,use_bias=False)\n",
    "\n",
    "    def call(self, w, m_i): # (M, K, N) (M, C, K, N)\n",
    "        M,K,_, = w.shape\n",
    "\n",
    "        w = tf.reshape(tf.repeat(w, 4, axis=0),m_i.shape) # (M, K, N) -> (M, C, K, N)\n",
    "        output = w * m_i # (M, C, K, N) * (M, C, K, N) \n",
    "        output = self.transpose_conv(tf.reshape(output, (M*self.C, K, self.N))) # (M*C, T, 1) or (M*C, T, L)Okay so the official naplab implementation turns the encoded sources directly back into its wavform essentially \n",
    "                                                                                # but the kaituoxo one seems to turn it into a 16 channel output then subsetting to only take the first chunk to deal with overlap\n",
    "        if self.naplab_impl:\n",
    "            output = output[:,:,:self.overlap]\n",
    "        output = tf.reshape(output, (M,self.C,-1)) # (M, C, T)\n",
    "        return output    "
   ]
  },
  {
   "cell_type": "code",
   "execution_count": 4,
   "metadata": {},
   "outputs": [
    {
     "data": {
      "text/plain": [
       "(2, 176400)"
      ]
     },
     "execution_count": 4,
     "metadata": {},
     "output_type": "execute_result"
    }
   ],
   "source": [
    "def make_base_dataset(M=1,T=320008):\n",
    "    root_mus = '../MUSDB18'\n",
    "    mus = musdb.DB(root=root_mus, subsets=\"train\")\n",
    "    song_list=[]\n",
    "    for m in range(M):\n",
    "        track = mus[m]\n",
    "        audio_l,audio_r = track.audio[:T].T\n",
    "        song_list.extend([audio_l,audio_r])\n",
    "    \n",
    "    return np.array(song_list)\n",
    "\n",
    "data = make_base_dataset(T = 44100*4)\n",
    "\n",
    "data.shape\n"
   ]
  },
  {
   "cell_type": "code",
   "execution_count": 14,
   "metadata": {},
   "outputs": [],
   "source": [
    "x, y = datasets.load_unpack_tensordata()"
   ]
  },
  {
   "cell_type": "code",
   "execution_count": 15,
   "metadata": {},
   "outputs": [
    {
     "data": {
      "text/plain": [
       "TensorShape([200, 640])"
      ]
     },
     "execution_count": 15,
     "metadata": {},
     "output_type": "execute_result"
    }
   ],
   "source": [
    "x_0 = tf.reshape(x[0],(200, 40*16))\n",
    "x_0.shape"
   ]
  },
  {
   "cell_type": "code",
   "execution_count": 3,
   "metadata": {},
   "outputs": [],
   "source": [
    "param = Parameters()"
   ]
  },
  {
   "cell_type": "code",
   "execution_count": 7,
   "metadata": {},
   "outputs": [],
   "source": [
    "param.win // 2\n",
    "del data"
   ]
  },
  {
   "cell_type": "code",
   "execution_count": 19,
   "metadata": {},
   "outputs": [
    {
     "data": {
      "text/plain": [
       "TensorShape([200, 79, 512])"
      ]
     },
     "execution_count": 19,
     "metadata": {},
     "output_type": "execute_result"
    }
   ],
   "source": [
    "encoder = Encoder(param)\n",
    "w = encoder(x_0)\n",
    "w.shape"
   ]
  },
  {
   "cell_type": "code",
   "execution_count": 17,
   "metadata": {},
   "outputs": [],
   "source": [
    "depthwise = DepthwiseConv(param.H, param.B, param.P, dilation=2, casual=True, skip=param.skip)\n",
    "convblock = Conv1DBlock(param.H, param.B, param.P, dilation=2, casual=True)\n"
   ]
  },
  {
   "cell_type": "code",
   "execution_count": 20,
   "metadata": {},
   "outputs": [],
   "source": [
    "sep = Separator(param)\n",
    "output = sep(w)"
   ]
  },
  {
   "cell_type": "code",
   "execution_count": 41,
   "metadata": {},
   "outputs": [
    {
     "name": "stdout",
     "output_type": "stream",
     "text": [
      "Mask multi (200, 4, 79, 512)\n",
      "transpose conv (800, 640, 1)\n"
     ]
    },
    {
     "data": {
      "text/plain": [
       "TensorShape([200, 4, 640])"
      ]
     },
     "execution_count": 41,
     "metadata": {},
     "output_type": "execute_result"
    }
   ],
   "source": [
    "decoder = Decoder(param)\n",
    "decoded = decoder(w, output)\n",
    "decoded.shape"
   ]
  },
  {
   "cell_type": "code",
   "execution_count": 21,
   "metadata": {},
   "outputs": [
    {
     "data": {
      "text/plain": [
       "TensorShape([200, 4, 79, 512])"
      ]
     },
     "execution_count": 21,
     "metadata": {},
     "output_type": "execute_result"
    }
   ],
   "source": [
    "output.shape"
   ]
  },
  {
   "cell_type": "code",
   "execution_count": 7,
   "metadata": {},
   "outputs": [],
   "source": [
    "root_mus = '../MUSDB18'\n",
    "mus = musdb.DB(root=root_mus, subsets=\"train\")"
   ]
  },
  {
   "cell_type": "code",
   "execution_count": 13,
   "metadata": {},
   "outputs": [
    {
     "data": {
      "text/plain": [
       "(320000,)"
      ]
     },
     "execution_count": 13,
     "metadata": {},
     "output_type": "execute_result"
    }
   ],
   "source": [
    "audio_l,audio_r =mus[0].audio[:320000].T\n",
    "audio_l.shape"
   ]
  },
  {
   "cell_type": "markdown",
   "metadata": {},
   "source": [
    "## Overall Architecture\n",
    "\n",
    "Looking at the model from a top down view, the data follows this pipeline:\n",
    "\n",
    "Data ---> Encoder ----> Separator ---> Decoder ---> Create Sources"
   ]
  },
  {
   "cell_type": "code",
   "execution_count": null,
   "metadata": {},
   "outputs": [],
   "source": [
    "# Params as globals for testing purposes\n",
    "M=200\n",
    "K=40\n",
    "L=16 # Chunk size\n",
    "C=4 # Amount of sources being estimated\n",
    "N=512 # Encoder output size\n",
    "B=128 # Conv1DBlock output size\n",
    "H=512 # Conv1DBlock input size\n",
    "P=3\n",
    "R=3 # Amount of repeats of the Temporal Convolution block\n",
    "X=8 # Amount of times Conv1DBlock is applied in a Temporal Convolution block\n",
    "T=3000 # TODO: figure out how to get this param\n",
    "dilation = 1\n",
    "overlap=8\n",
    "casual=False"
   ]
  },
  {
   "cell_type": "code",
   "execution_count": 53,
   "metadata": {},
   "outputs": [],
   "source": [
    "class ConvTasNet(models.Model):\n",
    "    \"\"\"\n",
    "    \n",
    "    \"\"\"\n",
    "    def __init__(self,\n",
    "                 L: int=16, # Chunk size\n",
    "                 C: int=4, # Amount of sources being estimated\n",
    "                 N: int=512, # Encoder output size\n",
    "                 B: int=128, # Conv1DBlock output size\n",
    "                 H: int=512, # Conv1DBlock input size\n",
    "                 P: int=3, # Kernel size of Conv1DBlocks\n",
    "                 R: int=3, # Amount of repeats of the Temporal Convolution block\n",
    "                 X: int=8, # Amount of times Conv1DBlock is applied in a Temporal Convolution block\n",
    "                 T: int=3000, # TODO: figure out how to get this param\n",
    "                 # win: int=2, # Size of encoder-decoder kernels\n",
    "                 overlap: int=8,\n",
    "                 skip: bool=True,\n",
    "                 casual: bool=False\n",
    "                ):\n",
    "        super().__init__(name=\"ConvTasNet\")\n",
    "        self.L = L\n",
    "        self.C = C\n",
    "        self.N = N\n",
    "        self.B = B\n",
    "        self.H = H\n",
    "        self.R = R\n",
    "        self.X = X\n",
    "        self.T = T\n",
    "        self.P = P\n",
    "        # self.win = win\n",
    "        self.overlap = overlap\n",
    "        self.skip = skip\n",
    "        self.casual = casual\n",
    "\n",
    "\n",
    "        self.encoder = Encoder(self.N)\n",
    "        self.separator = Separator(self.N, self.B, self.R, self.X, self.H, self.C, self.P, self.casual, self.skip)\n",
    "        self.decoder = Decoder(self.L)\n",
    "\n",
    "    def call(self, x):\n",
    "        w = self.encoder(x)\n",
    "        m_i = self.separator(w)\n",
    "\n",
    "        decoded = self.decoder(m_i, w)\n",
    "\n",
    "        return decoded\n",
    "    \n"
   ]
  },
  {
   "cell_type": "code",
   "execution_count": 54,
   "metadata": {},
   "outputs": [
    {
     "data": {
      "text/plain": [
       "TensorShape([200, 4, 40, 16])"
      ]
     },
     "execution_count": 54,
     "metadata": {},
     "output_type": "execute_result"
    }
   ],
   "source": [
    "cnn = ConvTasNet()\n",
    "cnn_output = cnn(x_batches[0])\n",
    "cnn_output.shape"
   ]
  },
  {
   "cell_type": "code",
   "execution_count": 12,
   "metadata": {},
   "outputs": [
    {
     "ename": "IndentationError",
     "evalue": "unexpected indent (1246982919.py, line 72)",
     "output_type": "error",
     "traceback": [
      "\u001b[1;36m  Cell \u001b[1;32mIn[12], line 72\u001b[1;36m\u001b[0m\n\u001b[1;33m    \"\"\"\u001b[0m\n\u001b[1;37m    ^\u001b[0m\n\u001b[1;31mIndentationError\u001b[0m\u001b[1;31m:\u001b[0m unexpected indent\n"
     ]
    }
   ],
   "source": [
    "# class Encoder(layers.Layer):\n",
    "#     \"\"\" \n",
    "#     First step of model not counting, preprocessing data. Puts the inputs through a 1x1 Convolutional layer with N output channels.\n",
    "#     A 1x1Convolutional layer can be interpreted and implemented as a Dense layer, but I chose not to implement it this way for clarity.\n",
    "#     The layer also has a ReLU activation function attached to it.\n",
    "\n",
    "#     Args: \n",
    "#         N: Encoder output size\n",
    "\n",
    "#     \"\"\"\n",
    "#     def __init__(self, N):\n",
    "#         super(Encoder, self).__init__(name='Encoder')\n",
    "#         self.U = layers.Conv1D(N,1)\n",
    "\n",
    "#     def call(self, x): # (M, K, L)\n",
    "#         return self.U(x) # (M, K, N)\n",
    "\n",
    "        \n",
    "# class Separator(layers.Layer):\n",
    "#     \"\"\" \n",
    "#     To begin the we take the output of the encoder which we then normalize it and feed it into a 1x1Convolution.\n",
    "#     This layer repeats a Temporal Convolution Block multiple times, wherin, what is refered to as a Conv1D Block in the paper, is repeated\n",
    "#     several times for each instance of a Temporal Convolutional Block. Finally the output of the Temporal blocks is input into a 1x1 Convolution\n",
    "#     with C*N output channels.\n",
    "#     Args:\n",
    "#         N: (int) Encoder output size\n",
    "#         B: (int) Bottleneck Conv1DBlock output size\n",
    "#         R: (int) Amount of repeats of the Temporal Convolution block\n",
    "#         X: (int) Amount of times Conv1DBlock is applied in a Temporal Convolution block\n",
    "#         H: (int) Conv1DBlock input size (Maybe should be equal to B*4)\n",
    "#         C: (int) Amount of sources being estimated\n",
    "#         P: (int) Size of kernel in depthwise convolutions\n",
    "    \n",
    "#     \"\"\"\n",
    "#     def __init__(self, N, B, R, X, H, C, P, casual, skip=True):\n",
    "#         super(Separator, self).__init__(name='Separator')\n",
    "#         self.C = C\n",
    "#         self.N = N\n",
    "#         self.skip=skip\n",
    "#         if casual:\n",
    "#             self.normalization = cLN(N)\n",
    "#         else:\n",
    "#             self.normalization = gLN(N) \n",
    "#         self.bottle_neck = layers.Conv1D(B,1)\n",
    "        \n",
    "#         self.temporal_conv = [TemporalConv(X, H, B, P, casual, skip=self.skip) for r in range(R)]\n",
    "#         self.skip_conn = layers.Add()\n",
    "#         self.prelu = layers.PReLU()\n",
    "#         self.m_i = layers.Conv1D(C*N, 1)\n",
    "\n",
    "#     def call(self, w): # (M, K, N)\n",
    "#         normalized_w = self.normalization(w) # (M, K, N)\n",
    "#         output = self.bottle_neck(normalized_w) # (M, K, B)\n",
    "#         skip_list = []\n",
    "#         for i,block in enumerate(self.temporal_conv):\n",
    "#             if self.skip:\n",
    "#                 output, skips = block(output)\n",
    "#                 skip_list.append(skips)\n",
    "#             else:\n",
    "#                 output = block(output)\n",
    "#         # (M, K, B)\n",
    "#         if self.skip:\n",
    "#             output = self.skip_conn(skip_list)\n",
    "\n",
    "#         output = self.prelu(output)\n",
    "#         estimated_masks = self.m_i(output) # (M, K, C*N)\n",
    "#         M, K, _ = estimated_masks.shape\n",
    "#         estimated_masks = activations.sigmoid(tf.reshape(estimated_masks, (M, self.C, K, self.N)))\n",
    "#         return estimated_masks\n",
    "    \n",
    "# class Decoder(layers.Layer):\n",
    "    \"\"\" \n",
    "    This is layer is final part of the model. Taking the features obtained, from the Conv1D blocks masks are finally combined into with the\n",
    "    original mix into the estimated sources.\n",
    "\n",
    "    Args:\n",
    "        L : (int) length of individual chunks of audio.\n",
    "    \"\"\"\n",
    "    def __init__(self, L):\n",
    "        super(Decoder, self).__init__(name='Decoder')\n",
    "        self.L = L\n",
    "        self.transpose_conv = layers.Conv1DTranspose(L,1)\n",
    "\n",
    "    def call(self, m_i, w):\n",
    "        M, C, K, _ = m_i.shape\n",
    "        est_sources =[]\n",
    "        for i in range(C):\n",
    "            source_mask = m_i[:,i,:,:]\n",
    "            masked_source = w * source_mask\n",
    "            est_src = self.transpose_conv(masked_source)\n",
    "            est_sources.append(tf.reshape(est_src, (M, 1, K, L)))\n",
    "\n",
    "        decoded_outputs = tf.concat(est_sources, axis=1)\n",
    "        return decoded_outputs            \n"
   ]
  },
  {
   "cell_type": "code",
   "execution_count": 18,
   "metadata": {},
   "outputs": [],
   "source": [
    "class Conv1DBlock(layers.Layer):\n",
    "    def __init__(self, H, B, P, dilation, casual, skip = True):\n",
    "        super(Conv1DBlock, self).__init__(name='Conv1DBlock')\n",
    "        self.skip = skip\n",
    "        self.input_channels = layers.Conv1D(H,1)\n",
    "        self.prelu = layers.PReLU()\n",
    "        if casual:\n",
    "            self.norm = cLN(H)\n",
    "        else:\n",
    "            self.norm = gLN(H)\n",
    "        \n",
    "        self.depthwise = DepthwiseConv(H, B, P, dilation, casual, skip=self.skip)\n",
    "\n",
    "    def call(self, input):\n",
    "        input_channels = self.input_channels(input)\n",
    "        input_channels = self.prelu(input_channels)\n",
    "        input_channels = self.norm(input_channels)\n",
    "        if self.skip:\n",
    "            res, skip = self.depthwise(input_channels)\n",
    "            return res, skip\n",
    "\n",
    "        res = self.depthwise(input_channels, skip=self.skip)\n",
    "        return res\n",
    "\n",
    "class DepthwiseConv(layers.Layer):\n",
    "    def __init__(self, H, B, P, dilation, casual, skip=True):\n",
    "        super(DepthwiseConv, self).__init__(name='DepthwiseConv')\n",
    "        self.skip = skip\n",
    "        if casual:\n",
    "            padding_type = \"causal\"\n",
    "            self.norm = cLN(H)\n",
    "        else:\n",
    "            padding_type = \"same\"\n",
    "            self.norm = gLN(H)\n",
    "\n",
    "        self.conv1d = layers.Conv1D(H, P, dilation_rate=dilation, padding=padding_type, groups=H)\n",
    "        self.prelu = layers.PReLU()\n",
    "        \n",
    "        self.res_out = layers.Conv1D(B, 1)\n",
    "        if self.skip:\n",
    "            self.skip_out = layers.Conv1D(B, 1)\n",
    "    \n",
    "    def call(self, input):\n",
    "        input = self.conv1d(input) \n",
    "        input = self.prelu(input)\n",
    "        input = self.norm(input)\n",
    "        res = self.res_out(input)\n",
    "        if self.skip:\n",
    "            skip_out = self.skip_out(input)\n",
    "            return res, skip_out\n",
    "        \n",
    "        return res\n",
    "\n",
    "class TemporalConv(layers.Layer):\n",
    "    def __init__(self, X, H, B, P, casual, skip=True):\n",
    "        super(TemporalConv,self).__init__(name='TemporalConv')\n",
    "        self.skip=skip\n",
    "        self.blocks = []\n",
    "        for i in range(X):\n",
    "            dilation = 2 ** i\n",
    "            self.blocks += [Conv1DBlock(H, B, P, dilation, casual, skip=self.skip)]\n",
    "        self.res_add = layers.Add()\n",
    "        self.skip_add = layers.Add()\n",
    "    \n",
    "    def call(self, block_input):\n",
    "        skip_list = []\n",
    "        for block in self.blocks:    \n",
    "                if self.skip:\n",
    "                    res, skip = block(block_input)\n",
    "                    block_input = self.res_add([block_input, res])\n",
    "                    skip_list.append(skip)\n",
    "                else:\n",
    "                    res = block(block_input)\n",
    "                    block_input = self.res_add([block_input, res])\n",
    "        if self.skip:\n",
    "            skip_conn = self.skip_add(skip_list)\n",
    "            return block_input, skip_conn\n",
    "        return block_input\n",
    "        \n"
   ]
  },
  {
   "cell_type": "code",
   "execution_count": 44,
   "metadata": {},
   "outputs": [
    {
     "ename": "TypeError",
     "evalue": "__init__() takes 2 positional arguments but 9 were given",
     "output_type": "error",
     "traceback": [
      "\u001b[1;31m---------------------------------------------------------------------------\u001b[0m",
      "\u001b[1;31mTypeError\u001b[0m                                 Traceback (most recent call last)",
      "Cell \u001b[1;32mIn[44], line 4\u001b[0m\n\u001b[0;32m      2\u001b[0m convblock \u001b[38;5;241m=\u001b[39m Conv1DBlock(param\u001b[38;5;241m.\u001b[39mH, param\u001b[38;5;241m.\u001b[39mB, param\u001b[38;5;241m.\u001b[39mP, dilation\u001b[38;5;241m=\u001b[39m\u001b[38;5;241m2\u001b[39m, casual\u001b[38;5;241m=\u001b[39m\u001b[38;5;28;01mTrue\u001b[39;00m)\n\u001b[0;32m      3\u001b[0m tempconv \u001b[38;5;241m=\u001b[39m TemporalConv(param\u001b[38;5;241m.\u001b[39mX, param\u001b[38;5;241m.\u001b[39mH, param\u001b[38;5;241m.\u001b[39mB, param\u001b[38;5;241m.\u001b[39mP, casual\u001b[38;5;241m=\u001b[39m\u001b[38;5;28;01mTrue\u001b[39;00m)\n\u001b[1;32m----> 4\u001b[0m sep \u001b[38;5;241m=\u001b[39m \u001b[43mSeparator\u001b[49m\u001b[43m(\u001b[49m\u001b[43mparam\u001b[49m\u001b[38;5;241;43m.\u001b[39;49m\u001b[43mN\u001b[49m\u001b[43m,\u001b[49m\u001b[43mparam\u001b[49m\u001b[38;5;241;43m.\u001b[39;49m\u001b[43mB\u001b[49m\u001b[43m,\u001b[49m\u001b[43mparam\u001b[49m\u001b[38;5;241;43m.\u001b[39;49m\u001b[43mR\u001b[49m\u001b[43m,\u001b[49m\u001b[43mparam\u001b[49m\u001b[38;5;241;43m.\u001b[39;49m\u001b[43mX\u001b[49m\u001b[43m,\u001b[49m\u001b[43mparam\u001b[49m\u001b[38;5;241;43m.\u001b[39;49m\u001b[43mH\u001b[49m\u001b[43m,\u001b[49m\u001b[43mparam\u001b[49m\u001b[38;5;241;43m.\u001b[39;49m\u001b[43mC\u001b[49m\u001b[43m,\u001b[49m\u001b[43mparam\u001b[49m\u001b[38;5;241;43m.\u001b[39;49m\u001b[43mP\u001b[49m\u001b[43m,\u001b[49m\u001b[38;5;28;43;01mTrue\u001b[39;49;00m\u001b[43m)\u001b[49m\n",
      "\u001b[1;31mTypeError\u001b[0m: __init__() takes 2 positional arguments but 9 were given"
     ]
    }
   ],
   "source": [
    "\n",
    "sep = Separator(param.N,param.B,param.R,param.X,param.H,param.C,param.P,True)"
   ]
  },
  {
   "cell_type": "code",
   "execution_count": 35,
   "metadata": {},
   "outputs": [
    {
     "name": "stdout",
     "output_type": "stream",
     "text": [
      "(6, 40000, 128) (6, 40000, 128)\n"
     ]
    }
   ],
   "source": [
    "dep_res,dep_out = depthwise(w)\n",
    "print(dep_out.shape, dep_res.shape)\n"
   ]
  },
  {
   "cell_type": "code",
   "execution_count": 40,
   "metadata": {},
   "outputs": [
    {
     "data": {
      "text/plain": [
       "TensorShape([6, 40000, 128])"
      ]
     },
     "execution_count": 40,
     "metadata": {},
     "output_type": "execute_result"
    }
   ],
   "source": [
    "conv_out = convblock(w)\n",
    "conv_out[0].shape"
   ]
  },
  {
   "cell_type": "code",
   "execution_count": 42,
   "metadata": {},
   "outputs": [
    {
     "ename": "ValueError",
     "evalue": "Exception encountered when calling layer \"TemporalConv\" \"                 f\"(type TemporalConv).\n\nInputs have incompatible shapes. Received shapes (40000, 512) and (40000, 128)\n\nCall arguments received by layer \"TemporalConv\" \"                 f\"(type TemporalConv):\n  • block_input=tf.Tensor(shape=(6, 40000, 512), dtype=float32)",
     "output_type": "error",
     "traceback": [
      "\u001b[1;31m---------------------------------------------------------------------------\u001b[0m",
      "\u001b[1;31mValueError\u001b[0m                                Traceback (most recent call last)",
      "Cell \u001b[1;32mIn[42], line 1\u001b[0m\n\u001b[1;32m----> 1\u001b[0m temp_out \u001b[38;5;241m=\u001b[39m \u001b[43mtempconv\u001b[49m\u001b[43m(\u001b[49m\u001b[43mw\u001b[49m\u001b[43m)\u001b[49m\n\u001b[0;32m      2\u001b[0m temp_conv\u001b[38;5;241m.\u001b[39mshape\n",
      "File \u001b[1;32mc:\\Users\\cobyw\\anaconda3\\envs\\mss_project\\lib\\site-packages\\keras\\utils\\traceback_utils.py:70\u001b[0m, in \u001b[0;36mfilter_traceback.<locals>.error_handler\u001b[1;34m(*args, **kwargs)\u001b[0m\n\u001b[0;32m     67\u001b[0m     filtered_tb \u001b[38;5;241m=\u001b[39m _process_traceback_frames(e\u001b[38;5;241m.\u001b[39m__traceback__)\n\u001b[0;32m     68\u001b[0m     \u001b[38;5;66;03m# To get the full stack trace, call:\u001b[39;00m\n\u001b[0;32m     69\u001b[0m     \u001b[38;5;66;03m# `tf.debugging.disable_traceback_filtering()`\u001b[39;00m\n\u001b[1;32m---> 70\u001b[0m     \u001b[38;5;28;01mraise\u001b[39;00m e\u001b[38;5;241m.\u001b[39mwith_traceback(filtered_tb) \u001b[38;5;28;01mfrom\u001b[39;00m \u001b[38;5;28;01mNone\u001b[39;00m\n\u001b[0;32m     71\u001b[0m \u001b[38;5;28;01mfinally\u001b[39;00m:\n\u001b[0;32m     72\u001b[0m     \u001b[38;5;28;01mdel\u001b[39;00m filtered_tb\n",
      "Cell \u001b[1;32mIn[32], line 70\u001b[0m, in \u001b[0;36mTemporalConv.call\u001b[1;34m(self, block_input)\u001b[0m\n\u001b[0;32m     68\u001b[0m \u001b[38;5;28;01mif\u001b[39;00m \u001b[38;5;28mself\u001b[39m\u001b[38;5;241m.\u001b[39mskip:\n\u001b[0;32m     69\u001b[0m     res, skip \u001b[38;5;241m=\u001b[39m block(block_input)\n\u001b[1;32m---> 70\u001b[0m     block_input \u001b[38;5;241m=\u001b[39m \u001b[38;5;28;43mself\u001b[39;49m\u001b[38;5;241;43m.\u001b[39;49m\u001b[43mres_add\u001b[49m\u001b[43m(\u001b[49m\u001b[43m[\u001b[49m\u001b[43mblock_input\u001b[49m\u001b[43m,\u001b[49m\u001b[43m \u001b[49m\u001b[43mres\u001b[49m\u001b[43m]\u001b[49m\u001b[43m)\u001b[49m\n\u001b[0;32m     71\u001b[0m     skip_list\u001b[38;5;241m.\u001b[39mappend(skip)\n\u001b[0;32m     72\u001b[0m \u001b[38;5;28;01melse\u001b[39;00m:\n",
      "\u001b[1;31mValueError\u001b[0m: Exception encountered when calling layer \"TemporalConv\" \"                 f\"(type TemporalConv).\n\nInputs have incompatible shapes. Received shapes (40000, 512) and (40000, 128)\n\nCall arguments received by layer \"TemporalConv\" \"                 f\"(type TemporalConv):\n  • block_input=tf.Tensor(shape=(6, 40000, 512), dtype=float32)"
     ]
    }
   ],
   "source": [
    "temp_out = tempconv(w)\n",
    "temp_conv.shape"
   ]
  },
  {
   "cell_type": "code",
   "execution_count": 6,
   "metadata": {},
   "outputs": [],
   "source": [
    "def choose_norm(casual, H):\n",
    "    \"\"\" \n",
    "    Chooses normalization type based on value of casual.\n",
    "\n",
    "    Args:\n",
    "        casual: (bool) chooses type of normalization applied.\n",
    "    Returns:\n",
    "        cLN or gLN (layer)\n",
    "    \"\"\"\n",
    "    if casual:\n",
    "        return cLN(H)\n",
    "    else:\n",
    "        return gLN(H)\n",
    "\n",
    "class cLN(layers.Layer):\n",
    "    def __init__(self, H, EPS = 1e-8):\n",
    "        super(cLN, self).__init__(name=\"cLN\")\n",
    "        self.EPS = EPS\n",
    "        shape = (1,1,H)\n",
    "        self.gamma = tf.Variable(tf.ones(shape),trainable=True,shape=shape)\n",
    "        self.beta = tf.Variable(tf.zeros(shape),trainable=True,shape=shape)\n",
    "\n",
    "    def call(self, input):\n",
    "        # (M, K, H)\n",
    "        E_f = tf.math.reduce_mean(input, axis=2, keepdims=True) # (M, K, 1)\n",
    "        var = tf.math.reduce_variance(input, axis=2, keepdims=True)# (M, K, 1)\n",
    "\n",
    "        normalized = self.gamma * (input - E_f) / tf.math.sqrt(var + self.EPS) + self.beta\n",
    "        # (M, K, H)\n",
    "        return normalized\n",
    "    \n",
    "class gLN(layers.Layer):\n",
    "    def __init__(self, H, EPS = 1e-8):\n",
    "        super(gLN, self).__init__(name=\"gLN\")\n",
    "        self.EPS = EPS\n",
    "        shape = (1,1,H)\n",
    "        self.gamma = tf.Variable(tf.ones(shape),trainable=True,shape=shape)\n",
    "        self.beta = tf.Variable(tf.zeros(shape),trainable=True,shape=shape)\n",
    "\n",
    "    def call(self, input):\n",
    "        # (M, K, H)\n",
    "        E_f = tf.math.reduce_mean(input, axis=(1,2), keepdims=True) # (M, 1, 1)\n",
    "        var = tf.math.reduce_variance(input, axis=(1,2), keepdims=True)# (M, 1, 1)\n",
    "\n",
    "        normalized = self.gamma * (input - E_f) / tf.math.sqrt(var + self.EPS) + self.beta\n",
    "        # (M, K, H)\n",
    "        return normalized\n"
   ]
  },
  {
   "cell_type": "code",
   "execution_count": 26,
   "metadata": {},
   "outputs": [],
   "source": [
    "def show_norm(input):\n",
    "    fig, axes = plt.subplots(1,3, figsize=(12, 4))\n",
    "\n",
    "    norm_c = cLN(H)(input)\n",
    "    norm_g = gLN(H)(input)\n",
    "\n",
    "    axes[0].set_title(\"Not normalized\")\n",
    "    axes[0].plot(input[0][0])\n",
    "\n",
    "    axes[1].set_title(\"Casual normalization\")\n",
    "    axes[1].plot(norm_c[0][0])\n",
    "\n",
    "    axes[2].set_title(\"Global normalization\")\n",
    "    axes[2].plot(norm_g[0][0])\n"
   ]
  },
  {
   "cell_type": "code",
   "execution_count": 30,
   "metadata": {},
   "outputs": [
    {
     "data": {
      "image/png": "[encoded data removed]",
      "text/plain": [
       "<Figure size 1200x400 with 3 Axes>"
      ]
     },
     "metadata": {},
     "output_type": "display_data"
    }
   ],
   "source": [
    "show_norm(test_encoded)"
   ]
  }
 ],
 "metadata": {
  "kernelspec": {
   "display_name": "base",
   "language": "python",
   "name": "python3"
  },
  "language_info": {
   "codemirror_mode": {
    "name": "ipython",
    "version": 3
   },
   "file_extension": ".py",
   "mimetype": "text/x-python",
   "name": "python",
   "nbconvert_exporter": "python",
   "pygments_lexer": "ipython3",
   "version": "3.9.19"
  }
 },
 "nbformat": 4,
 "nbformat_minor": 2
}
