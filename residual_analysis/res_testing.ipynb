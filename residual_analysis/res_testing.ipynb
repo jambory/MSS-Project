{
 "cells": [
  {
   "cell_type": "code",
   "execution_count": null,
   "metadata": {},
   "outputs": [],
   "source": [
    "import sys\n",
    "sys.path.append('../audio_processing/')\n",
    "import audio_processing as ap\n",
    "import librosa\n",
    "from IPython.display import Audio\n",
    "import numpy\n",
    "import musdb\n"
   ]
  },
  {
   "cell_type": "markdown",
   "metadata": {},
   "source": [
    "# Residual Analysis\n",
    "\n",
    "In this report, I'll try to look at the errors of my generated sources and try to answer questions like: \n",
    "\n",
    "Where is the error mainly coming from?\n",
    "What are the different types of error in audio processing?\n",
    "How do these different types of error sound, appear visually, and mathematically?\n",
    "Are there ways to address the error created?\n",
    "\n",
    "To start, let's look at the mask I create in the spectrogram limits report."
   ]
  }
 ],
 "metadata": {
  "kernelspec": {
   "display_name": "base",
   "language": "python",
   "name": "python3"
  },
  "language_info": {
   "name": "python",
   "version": "3.11.5"
  }
 },
 "nbformat": 4,
 "nbformat_minor": 2
}
